{
  "nbformat": 4,
  "nbformat_minor": 0,
  "metadata": {
    "colab": {
      "provenance": []
    },
    "kernelspec": {
      "name": "python3",
      "display_name": "Python 3"
    },
    "language_info": {
      "name": "python"
    }
  },
  "cells": [
    {
      "cell_type": "code",
      "execution_count": 1,
      "metadata": {
        "colab": {
          "base_uri": "https://localhost:8080/",
          "height": 0
        },
        "id": "GOlOHO4p1zW8",
        "outputId": "c9851043-cdfc-458b-9e7c-d4e8b037c378"
      },
      "outputs": [
        {
          "output_type": "stream",
          "name": "stdout",
          "text": [
            "Collecting pyspark\n",
            "  Downloading pyspark-3.5.0.tar.gz (316.9 MB)\n",
            "\u001b[2K     \u001b[90m━━━━━━━━━━━━━━━━━━━━━━━━━━━━━━━━━━━━━━━━\u001b[0m \u001b[32m316.9/316.9 MB\u001b[0m \u001b[31m3.3 MB/s\u001b[0m eta \u001b[36m0:00:00\u001b[0m\n",
            "\u001b[?25h  Preparing metadata (setup.py) ... \u001b[?25l\u001b[?25hdone\n",
            "Requirement already satisfied: py4j==0.10.9.7 in /usr/local/lib/python3.10/dist-packages (from pyspark) (0.10.9.7)\n",
            "Building wheels for collected packages: pyspark\n",
            "  Building wheel for pyspark (setup.py) ... \u001b[?25l\u001b[?25hdone\n",
            "  Created wheel for pyspark: filename=pyspark-3.5.0-py2.py3-none-any.whl size=317425344 sha256=cfbd7c0798daa262d47b2cd2500ee3e18ad6e381e1548c6d98bd13c7b4945e3e\n",
            "  Stored in directory: /root/.cache/pip/wheels/41/4e/10/c2cf2467f71c678cfc8a6b9ac9241e5e44a01940da8fbb17fc\n",
            "Successfully built pyspark\n",
            "Installing collected packages: pyspark\n",
            "Successfully installed pyspark-3.5.0\n"
          ]
        }
      ],
      "source": [
        "pip install pyspark"
      ]
    },
    {
      "cell_type": "markdown",
      "source": [
        "1. Create a Spark session"
      ],
      "metadata": {
        "id": "xWQu5FRn13KL"
      }
    },
    {
      "cell_type": "code",
      "source": [
        "from pyspark.sql import SparkSession\n",
        "spark = SparkSession \\\n",
        ".builder \\\n",
        ".appName(\"Assignment3\") \\\n",
        ".config(\"spark.some.config.option\", \"some-value\") \\\n",
        ".getOrCreate()\n"
      ],
      "metadata": {
        "id": "uCac4Ufa16Jl"
      },
      "execution_count": 2,
      "outputs": []
    },
    {
      "cell_type": "markdown",
      "source": [
        "2. Define the schema for loading the Chicago crime dataset"
      ],
      "metadata": {
        "id": "xaaDYupg2DWG"
      }
    },
    {
      "cell_type": "code",
      "source": [
        "from pyspark.sql.types import StructType, StructField, IntegerType, StringType, TimestampType, FloatType\n",
        "schema = StructType([\n",
        "StructField(\"ID\", IntegerType(), True),\n",
        "StructField(\"CaseNumber\", StringType(), True),\n",
        "StructField(\"Date\", StringType(), True),\n",
        "StructField(\"Block\", StringType(), True),\n",
        "StructField(\"IUCR\", StringType(), True),\n",
        "StructField(\"PrimaryType\", StringType(), True),\n",
        "StructField(\"Description\", StringType(), True),\n",
        "StructField(\"LocationDescription\", StringType(), True),\n",
        "StructField(\"Arrest\", StringType(), True),\n",
        "StructField(\"Domestic\", StringType(), True),\n",
        "StructField(\"Beat\", IntegerType(), True),\n",
        "StructField(\"District\", IntegerType(), True),\n",
        "StructField(\"Ward\", IntegerType(), True),\n",
        "StructField(\"CommunityArea\", IntegerType(), True),\n",
        "StructField(\"FBICode\", StringType(), True),\n",
        "StructField(\"XCoordinate\", FloatType(), True),\n",
        "StructField(\"YCoordinate\", FloatType(), True),\n",
        "StructField(\"Year\", IntegerType(), True),\n",
        "StructField(\"UpdatedOn\", TimestampType(), True),\n",
        "StructField(\"Latitude\", FloatType(), True),\n",
        "StructField(\"Longitude\", FloatType(), True),\n",
        "StructField(\"Location\", StringType(), True)\n",
        "])"
      ],
      "metadata": {
        "id": "Nc2lss2-2Ggk"
      },
      "execution_count": 3,
      "outputs": []
    },
    {
      "cell_type": "markdown",
      "source": [
        "Downloading the data"
      ],
      "metadata": {
        "id": "Qb-1Z7w42Pr8"
      }
    },
    {
      "cell_type": "code",
      "source": [
        "!curl -o myData.csv https://data.cityofchicago.org/api/views/ijzp-q8t2/rows.csv?accessType=DOWNLOAD\n"
      ],
      "metadata": {
        "colab": {
          "base_uri": "https://localhost:8080/",
          "height": 0
        },
        "id": "T-sQlKGm2Qf8",
        "outputId": "533aacf8-cea4-45cf-e8f6-230966a803ad"
      },
      "execution_count": 4,
      "outputs": [
        {
          "output_type": "stream",
          "name": "stdout",
          "text": [
            "  % Total    % Received % Xferd  Average Speed   Time    Time     Time  Current\n",
            "                                 Dload  Upload   Total   Spent    Left  Speed\n",
            "100  257M    0  257M    0     0  2644k      0 --:--:--  0:01:39 --:--:-- 3037k^C\n"
          ]
        }
      ]
    },
    {
      "cell_type": "markdown",
      "source": [
        "Import and load the Chicago crime dataset (you should get more than a million rows) using the specified schema"
      ],
      "metadata": {
        "id": "7KYSaHGj2Zd0"
      }
    },
    {
      "cell_type": "code",
      "source": [
        "df = spark.read.csv(\"myData.csv\", header=True, schema=schema)\n",
        "\n",
        "df.show(20)"
      ],
      "metadata": {
        "colab": {
          "base_uri": "https://localhost:8080/",
          "height": 0
        },
        "id": "mHk6mAJ-2aTG",
        "outputId": "1d2bbaa2-ee9f-4681-9c68-d9eb1b7a906a"
      },
      "execution_count": 7,
      "outputs": [
        {
          "output_type": "stream",
          "name": "stdout",
          "text": [
            "+--------+----------+--------------------+--------------------+----+------------------+--------------------+--------------------+------+--------+----+--------+----+-------------+-------+-----------+-----------+----+---------+---------+----------+--------------------+\n",
            "|      ID|CaseNumber|                Date|               Block|IUCR|       PrimaryType|         Description| LocationDescription|Arrest|Domestic|Beat|District|Ward|CommunityArea|FBICode|XCoordinate|YCoordinate|Year|UpdatedOn| Latitude| Longitude|            Location|\n",
            "+--------+----------+--------------------+--------------------+----+------------------+--------------------+--------------------+------+--------+----+--------+----+-------------+-------+-----------+-----------+----+---------+---------+----------+--------------------+\n",
            "|11037294|  JA371270|03/18/2015 12:00:...|   0000X W WACKER DR|1153|DECEPTIVE PRACTICE|FINANCIAL IDENTIT...|                BANK| false|   false| 111|       1|  42|           32|     11|       NULL|       NULL|2015|     NULL|     NULL|      NULL|                NULL|\n",
            "|11646293|  JC213749|12/20/2018 03:00:...|023XX N LOCKWOOD AVE|1154|DECEPTIVE PRACTICE|FINANCIAL IDENTIT...|           APARTMENT| false|   false|2515|      25|  36|           19|     11|       NULL|       NULL|2018|     NULL|     NULL|      NULL|                NULL|\n",
            "|11645836|  JC212333|05/01/2016 12:25:...| 055XX S ROCKWELL ST|1153|DECEPTIVE PRACTICE|FINANCIAL IDENTIT...|                NULL| false|   false| 824|       8|  15|           63|     11|       NULL|       NULL|2016|     NULL|     NULL|      NULL|                NULL|\n",
            "|11645959|  JC211511|12/20/2018 04:00:...|  045XX N ALBANY AVE|2820|     OTHER OFFENSE|    TELEPHONE THREAT|           RESIDENCE| false|   false|1724|      17|  33|           14|    08A|       NULL|       NULL|2018|     NULL|     NULL|      NULL|                NULL|\n",
            "|11645601|  JC212935|06/01/2014 12:01:...| 087XX S SANGAMON ST|1153|DECEPTIVE PRACTICE|FINANCIAL IDENTIT...|           RESIDENCE| false|   false|2222|      22|  21|           71|     11|       NULL|       NULL|2014|     NULL|     NULL|      NULL|                NULL|\n",
            "|11646166|  JC213529|09/01/2018 12:01:...|082XX S INGLESIDE...|0810|             THEFT|           OVER $500|           RESIDENCE| false|    true| 631|       6|   8|           44|     06|       NULL|       NULL|2018|     NULL|     NULL|      NULL|                NULL|\n",
            "|11645648|  JC212959|01/01/2018 08:00:...| 024XX N MONITOR AVE|1153|DECEPTIVE PRACTICE|FINANCIAL IDENTIT...|           RESIDENCE| false|   false|2515|      25|  30|           19|     11|       NULL|       NULL|2018|     NULL|     NULL|      NULL|                NULL|\n",
            "|11645557|  JC212685|04/01/2018 12:01:...|  080XX S VERNON AVE|1153|DECEPTIVE PRACTICE|FINANCIAL IDENTIT...|           RESIDENCE| false|   false| 631|       6|   6|           44|     11|       NULL|       NULL|2018|     NULL|     NULL|      NULL|                NULL|\n",
            "|11645527|  JC212744|02/02/2015 10:00:...|  069XX W ARCHER AVE|1153|DECEPTIVE PRACTICE|FINANCIAL IDENTIT...|               OTHER| false|   false| 811|       8|  23|           56|     11|       NULL|       NULL|2015|     NULL|     NULL|      NULL|                NULL|\n",
            "|11645833|  JC213044|05/05/2012 12:25:...|     057XX W OHIO ST|1153|DECEPTIVE PRACTICE|FINANCIAL IDENTIT...|                NULL| false|   false|1511|      15|  29|           25|     11|       NULL|       NULL|2012|     NULL|     NULL|      NULL|                NULL|\n",
            "|11645568|  JC212803|12/18/2018 11:00:...|  032XX N WILTON AVE|1153|DECEPTIVE PRACTICE|FINANCIAL IDENTIT...|           RESIDENCE| false|   false|1924|      19|  44|            6|     11|       NULL|       NULL|2018|     NULL|     NULL|      NULL|                NULL|\n",
            "|12045583|  JD226426|05/07/2020 10:24:...| 035XX S INDIANA AVE|0820|             THEFT|      $500 AND UNDER|           APARTMENT| false|   false| 212|       2|   3|           35|     06|  1178180.0|  1881621.0|2020|     NULL|41.830482| -87.62175|(41.830481843, -8...|\n",
            "|12031001|  JD209965|04/16/2020 05:00:...|     005XX W 32ND ST|0460|           BATTERY|              SIMPLE|           APARTMENT|  true|   false| 915|       9|  11|           60|    08B|  1173292.0|  1883705.0|2020|     NULL| 41.83631|-87.639626|(41.836310224, -8...|\n",
            "|12093529|  JD282112|07/01/2020 10:16:...|   081XX S COLES AVE|051A|           ASSAULT|AGGRAVATED - HANDGUN|              STREET|  true|   false| 422|       4|   7|           46|    04A|  1198234.0|  1851595.0|2020|     NULL| 41.74761| -87.54918|(41.747609555, -8...|\n",
            "|12178140|  JD381597|09/27/2020 11:29:...| 065XX S WOLCOTT AVE|0460|           BATTERY|              SIMPLE|RESIDENCE - PORCH...| false|   false| 726|       7|  15|           67|    08B|  1164812.0|  1861251.0|2020|     NULL|41.774876| -87.67137|(41.77487752, -87...|\n",
            "| 4144897|  HL474854|07/10/2005 03:00:...| 062XX S ABERDEEN ST|0430|           BATTERY|AGGRAVATED: OTHER...|              STREET| false|   false| 712|       7|  16|           68|    04B|  1170050.0|  1863524.0|2005|     NULL|41.781002| -87.65211|(41.781002663, -8...|\n",
            "| 1744168|   G553545|09/15/2001 02:00:...|     013XX W POLK ST|0460|           BATTERY|              SIMPLE|              STREET| false|   false|1213|      12|NULL|         NULL|    08B|       NULL|       NULL|2001|     NULL|     NULL|      NULL|                NULL|\n",
            "|11641644|  JC207234|03/31/2019 09:30:...|   005XX N ogden ave|0890|             THEFT|       FROM BUILDING|          RESTAURANT| false|   false|1215|      12|   1|           24|     06|       NULL|       NULL|2019|     NULL|     NULL|      NULL|                NULL|\n",
            "|11615821|  JC176668|01/01/2016 12:00:...| 054XX N NATCHEZ AVE|1195|DECEPTIVE PRACTICE|FINAN EXPLOIT-ELD...|           RESIDENCE| false|    true|1613|      16|  45|           10|     11|       NULL|       NULL|2016|     NULL|     NULL|      NULL|                NULL|\n",
            "|12126129|  JD321064|08/04/2020 08:28:...| 081XX S LOOMIS BLVD|143A| WEAPONS VIOLATION|UNLAWFUL POSSESSI...|              STREET|  true|   false| 613|       6|  21|           71|     15|  1168412.0|  1850836.0|2020|     NULL| 41.74622| -87.65848|(41.746220584, -8...|\n",
            "+--------+----------+--------------------+--------------------+----+------------------+--------------------+--------------------+------+--------+----+--------+----+-------------+-------+-----------+-----------+----+---------+---------+----------+--------------------+\n",
            "only showing top 20 rows\n",
            "\n"
          ]
        }
      ]
    },
    {
      "cell_type": "code",
      "source": [
        "num_rows = df.count()\n",
        "num_cols = len(df.columns)\n",
        "print(f\"Number of rows: {num_rows}\")\n",
        "print(f\"Number of columns: {num_cols}\")\n"
      ],
      "metadata": {
        "colab": {
          "base_uri": "https://localhost:8080/",
          "height": 0
        },
        "id": "pKCa2pvv2oeG",
        "outputId": "2a85e6e2-20e3-4371-f3c0-e60408794c10"
      },
      "execution_count": 16,
      "outputs": [
        {
          "output_type": "stream",
          "name": "stdout",
          "text": [
            "Number of rows: 1139570\n",
            "Number of columns: 22\n"
          ]
        }
      ]
    },
    {
      "cell_type": "code",
      "source": [
        "df.printSchema()"
      ],
      "metadata": {
        "colab": {
          "base_uri": "https://localhost:8080/",
          "height": 0
        },
        "id": "t8tP8I3G3Bue",
        "outputId": "8d67be79-1680-44a1-da6c-41a15480547d"
      },
      "execution_count": 17,
      "outputs": [
        {
          "output_type": "stream",
          "name": "stdout",
          "text": [
            "root\n",
            " |-- ID: integer (nullable = true)\n",
            " |-- CaseNumber: string (nullable = true)\n",
            " |-- Date: string (nullable = true)\n",
            " |-- Block: string (nullable = true)\n",
            " |-- IUCR: string (nullable = true)\n",
            " |-- PrimaryType: string (nullable = true)\n",
            " |-- Description: string (nullable = true)\n",
            " |-- LocationDescription: string (nullable = true)\n",
            " |-- Arrest: string (nullable = true)\n",
            " |-- Domestic: string (nullable = true)\n",
            " |-- Beat: integer (nullable = true)\n",
            " |-- District: integer (nullable = true)\n",
            " |-- Ward: integer (nullable = true)\n",
            " |-- CommunityArea: integer (nullable = true)\n",
            " |-- FBICode: string (nullable = true)\n",
            " |-- XCoordinate: float (nullable = true)\n",
            " |-- YCoordinate: float (nullable = true)\n",
            " |-- Year: integer (nullable = true)\n",
            " |-- UpdatedOn: timestamp (nullable = true)\n",
            " |-- Latitude: float (nullable = true)\n",
            " |-- Longitude: float (nullable = true)\n",
            " |-- Location: string (nullable = true)\n",
            "\n"
          ]
        }
      ]
    },
    {
      "cell_type": "markdown",
      "source": [
        "4.Cleaning the data:\n",
        "\n",
        "a. Removing all the null values.\n",
        "\n",
        "b. Change 'Date' column data type"
      ],
      "metadata": {
        "id": "q5ROmBQP3DVD"
      }
    },
    {
      "cell_type": "code",
      "source": [
        "from pyspark.sql.functions import *\n",
        "\n",
        "\n",
        "df.select([count(when(isnull(c), c)).alias(c) for c in df.columns]).show()\n"
      ],
      "metadata": {
        "colab": {
          "base_uri": "https://localhost:8080/",
          "height": 0
        },
        "id": "suLVtxU33OlE",
        "outputId": "944751e8-cf40-46ef-d914-2a5fd59d68a1"
      },
      "execution_count": 30,
      "outputs": [
        {
          "output_type": "stream",
          "name": "stdout",
          "text": [
            "+---+----------+----+-----+----+-----------+-----------+-------------------+------+--------+----+--------+----+-------------+-------+-----------+-----------+----+---------+--------+---------+--------+\n",
            "| ID|CaseNumber|Date|Block|IUCR|PrimaryType|Description|LocationDescription|Arrest|Domestic|Beat|District|Ward|CommunityArea|FBICode|XCoordinate|YCoordinate|Year|UpdatedOn|Latitude|Longitude|Location|\n",
            "+---+----------+----+-----+----+-----------+-----------+-------------------+------+--------+----+--------+----+-------------+-------+-----------+-----------+----+---------+--------+---------+--------+\n",
            "|  0|         0|   0|    0|   0|          0|          0|                  0|     0|       0|   0|       2|   0|            0|      0|          0|          0|   0|  1139570|   23495|    23495|   23495|\n",
            "+---+----------+----+-----+----+-----------+-----------+-------------------+------+--------+----+--------+----+-------------+-------+-----------+-----------+----+---------+--------+---------+--------+\n",
            "\n"
          ]
        }
      ]
    },
    {
      "cell_type": "code",
      "source": [
        "mean_value = df.select(mean('LocationDescription')).collect()[0][0]\n",
        "df = df.fillna(str(mean_value), subset=['LocationDescription'])\n",
        "mean_value = df.select(mean('Ward')).collect()[0][0]\n",
        "df = df.fillna(int(mean_value), subset=['Ward'])\n",
        "mean_value = df.select(mean('XCoordinate')).collect()[0][0]\n",
        "df = df.fillna(float(mean_value), subset=['XCoordinate'])\n",
        "mean_value = df.select(mean('YCoordinate')).collect()[0][0]\n",
        "df = df.fillna(float(mean_value), subset=['YCoordinate'])\n",
        "mean_value = df.select(mean('CommunityArea')).collect()[0][0]\n",
        "df = df.fillna(int(mean_value), subset=['CommunityArea'])\n",
        "print((df.count(), len(df.columns)))\n"
      ],
      "metadata": {
        "colab": {
          "base_uri": "https://localhost:8080/",
          "height": 0
        },
        "id": "55cO8cBV4Erw",
        "outputId": "b23fb2a1-3d12-41a3-9e3a-e0fe03079ff3"
      },
      "execution_count": 31,
      "outputs": [
        {
          "output_type": "stream",
          "name": "stdout",
          "text": [
            "(1139570, 22)\n"
          ]
        }
      ]
    },
    {
      "cell_type": "code",
      "source": [
        "df.select([count(when(isnull(c), c)).alias(c) for c in df.columns]).show()\n"
      ],
      "metadata": {
        "colab": {
          "base_uri": "https://localhost:8080/",
          "height": 0
        },
        "id": "MJkknYNa5qQ_",
        "outputId": "dbf973a4-b2f6-4e99-86c9-e6f3c0e0cd1f"
      },
      "execution_count": 32,
      "outputs": [
        {
          "output_type": "stream",
          "name": "stdout",
          "text": [
            "+---+----------+----+-----+----+-----------+-----------+-------------------+------+--------+----+--------+----+-------------+-------+-----------+-----------+----+---------+--------+---------+--------+\n",
            "| ID|CaseNumber|Date|Block|IUCR|PrimaryType|Description|LocationDescription|Arrest|Domestic|Beat|District|Ward|CommunityArea|FBICode|XCoordinate|YCoordinate|Year|UpdatedOn|Latitude|Longitude|Location|\n",
            "+---+----------+----+-----+----+-----------+-----------+-------------------+------+--------+----+--------+----+-------------+-------+-----------+-----------+----+---------+--------+---------+--------+\n",
            "|  0|         0|   0|    0|   0|          0|          0|                  0|     0|       0|   0|       2|   0|            0|      0|          0|          0|   0|  1139570|   23495|    23495|   23495|\n",
            "+---+----------+----+-----+----+-----------+-----------+-------------------+------+--------+----+--------+----+-------------+-------+-----------+-----------+----+---------+--------+---------+--------+\n",
            "\n"
          ]
        }
      ]
    },
    {
      "cell_type": "code",
      "source": [
        "df = df.withColumn(\"UpdatedOn\",df[\"UpdatedOn\"].cast(StringType()))\n",
        "mean_value = df.select(mean('UpdatedOn')).collect()[0][0]\n",
        "df = df.fillna(str(mean_value), subset=['UpdatedOn'])\n",
        "\n",
        "\n",
        "df.printSchema()\n"
      ],
      "metadata": {
        "colab": {
          "base_uri": "https://localhost:8080/",
          "height": 0
        },
        "id": "kS7leDOh5xjg",
        "outputId": "25a12e45-737a-4204-a63d-b41188456631"
      },
      "execution_count": 33,
      "outputs": [
        {
          "output_type": "stream",
          "name": "stdout",
          "text": [
            "root\n",
            " |-- ID: integer (nullable = true)\n",
            " |-- CaseNumber: string (nullable = true)\n",
            " |-- Date: string (nullable = true)\n",
            " |-- Block: string (nullable = true)\n",
            " |-- IUCR: string (nullable = true)\n",
            " |-- PrimaryType: string (nullable = true)\n",
            " |-- Description: string (nullable = true)\n",
            " |-- LocationDescription: string (nullable = false)\n",
            " |-- Arrest: string (nullable = true)\n",
            " |-- Domestic: string (nullable = true)\n",
            " |-- Beat: integer (nullable = true)\n",
            " |-- District: integer (nullable = true)\n",
            " |-- Ward: integer (nullable = true)\n",
            " |-- CommunityArea: integer (nullable = true)\n",
            " |-- FBICode: string (nullable = true)\n",
            " |-- XCoordinate: float (nullable = false)\n",
            " |-- YCoordinate: float (nullable = false)\n",
            " |-- Year: integer (nullable = true)\n",
            " |-- UpdatedOn: string (nullable = false)\n",
            " |-- Latitude: float (nullable = true)\n",
            " |-- Longitude: float (nullable = true)\n",
            " |-- Location: string (nullable = true)\n",
            "\n"
          ]
        }
      ]
    },
    {
      "cell_type": "code",
      "source": [
        "mean_value = df.select(mean('Latitude')).collect()[0][0]\n",
        "df = df.fillna(float(mean_value), subset=['Latitude'])\n",
        "mean_value = df.select(mean('Longitude')).collect()[0][0]\n",
        "df = df.fillna(float(mean_value), subset=['Longitude'])\n",
        "mean_value = df.select(mean('Location')).collect()[0][0]\n",
        "df = df.fillna(str(mean_value), subset=['Location'])\n",
        "\n",
        "df = df.na.drop()\n",
        "\n",
        "df.select([count(when(isnull(c), c)).alias(c) for c in df.columns]).show()"
      ],
      "metadata": {
        "colab": {
          "base_uri": "https://localhost:8080/",
          "height": 0
        },
        "id": "1M_asG8q59xM",
        "outputId": "6eb9459e-7ab2-4850-e7e1-0ef166cc68cc"
      },
      "execution_count": 34,
      "outputs": [
        {
          "output_type": "stream",
          "name": "stdout",
          "text": [
            "+---+----------+----+-----+----+-----------+-----------+-------------------+------+--------+----+--------+----+-------------+-------+-----------+-----------+----+---------+--------+---------+--------+\n",
            "| ID|CaseNumber|Date|Block|IUCR|PrimaryType|Description|LocationDescription|Arrest|Domestic|Beat|District|Ward|CommunityArea|FBICode|XCoordinate|YCoordinate|Year|UpdatedOn|Latitude|Longitude|Location|\n",
            "+---+----------+----+-----+----+-----------+-----------+-------------------+------+--------+----+--------+----+-------------+-------+-----------+-----------+----+---------+--------+---------+--------+\n",
            "|  0|         0|   0|    0|   0|          0|          0|                  0|     0|       0|   0|       0|   0|            0|      0|          0|          0|   0|        0|       0|        0|       0|\n",
            "+---+----------+----+-----+----+-----------+-----------+-------------------+------+--------+----+--------+----+-------------+-------+-----------+-----------+----+---------+--------+---------+--------+\n",
            "\n"
          ]
        }
      ]
    },
    {
      "cell_type": "code",
      "source": [
        "print((df.count(), len(df.columns)))\n",
        "\n",
        "(231720, 22)\n",
        "\n",
        "df.printSchema()"
      ],
      "metadata": {
        "colab": {
          "base_uri": "https://localhost:8080/",
          "height": 0
        },
        "id": "KsAgvyVB6JLU",
        "outputId": "d4fe0547-ea26-41f8-c7bb-bcf2ed39657d"
      },
      "execution_count": 35,
      "outputs": [
        {
          "output_type": "stream",
          "name": "stdout",
          "text": [
            "(1139568, 22)\n",
            "root\n",
            " |-- ID: integer (nullable = true)\n",
            " |-- CaseNumber: string (nullable = true)\n",
            " |-- Date: string (nullable = true)\n",
            " |-- Block: string (nullable = true)\n",
            " |-- IUCR: string (nullable = true)\n",
            " |-- PrimaryType: string (nullable = true)\n",
            " |-- Description: string (nullable = true)\n",
            " |-- LocationDescription: string (nullable = false)\n",
            " |-- Arrest: string (nullable = true)\n",
            " |-- Domestic: string (nullable = true)\n",
            " |-- Beat: integer (nullable = true)\n",
            " |-- District: integer (nullable = true)\n",
            " |-- Ward: integer (nullable = true)\n",
            " |-- CommunityArea: integer (nullable = true)\n",
            " |-- FBICode: string (nullable = true)\n",
            " |-- XCoordinate: float (nullable = false)\n",
            " |-- YCoordinate: float (nullable = false)\n",
            " |-- Year: integer (nullable = true)\n",
            " |-- UpdatedOn: string (nullable = false)\n",
            " |-- Latitude: float (nullable = false)\n",
            " |-- Longitude: float (nullable = false)\n",
            " |-- Location: string (nullable = false)\n",
            "\n"
          ]
        }
      ]
    },
    {
      "cell_type": "code",
      "source": [
        "df.show(20)\n"
      ],
      "metadata": {
        "colab": {
          "base_uri": "https://localhost:8080/",
          "height": 0
        },
        "id": "NOvgb0Sc6eTz",
        "outputId": "b8a0a595-6364-4ddd-95df-3ee9626a06f5"
      },
      "execution_count": 36,
      "outputs": [
        {
          "output_type": "stream",
          "name": "stdout",
          "text": [
            "+--------+----------+--------------------+--------------------+----+------------------+--------------------+--------------------+------+--------+----+--------+----+-------------+-------+-----------+-----------+----+---------+---------+----------+--------------------+\n",
            "|      ID|CaseNumber|                Date|               Block|IUCR|       PrimaryType|         Description| LocationDescription|Arrest|Domestic|Beat|District|Ward|CommunityArea|FBICode|XCoordinate|YCoordinate|Year|UpdatedOn| Latitude| Longitude|            Location|\n",
            "+--------+----------+--------------------+--------------------+----+------------------+--------------------+--------------------+------+--------+----+--------+----+-------------+-------+-----------+-----------+----+---------+---------+----------+--------------------+\n",
            "|11037294|  JA371270|03/18/2015 12:00:...|   0000X W WACKER DR|1153|DECEPTIVE PRACTICE|FINANCIAL IDENTIT...|                BANK| false|   false| 111|       1|  42|           32|     11|  1164887.6|  1885939.0|2015|     None|41.842606| -87.67044|                None|\n",
            "|11646293|  JC213749|12/20/2018 03:00:...|023XX N LOCKWOOD AVE|1154|DECEPTIVE PRACTICE|FINANCIAL IDENTIT...|           APARTMENT| false|   false|2515|      25|  36|           19|     11|  1164887.6|  1885939.0|2018|     None|41.842606| -87.67044|                None|\n",
            "|11645836|  JC212333|05/01/2016 12:25:...| 055XX S ROCKWELL ST|1153|DECEPTIVE PRACTICE|FINANCIAL IDENTIT...|                None| false|   false| 824|       8|  15|           63|     11|  1164887.6|  1885939.0|2016|     None|41.842606| -87.67044|                None|\n",
            "|11645959|  JC211511|12/20/2018 04:00:...|  045XX N ALBANY AVE|2820|     OTHER OFFENSE|    TELEPHONE THREAT|           RESIDENCE| false|   false|1724|      17|  33|           14|    08A|  1164887.6|  1885939.0|2018|     None|41.842606| -87.67044|                None|\n",
            "|11645601|  JC212935|06/01/2014 12:01:...| 087XX S SANGAMON ST|1153|DECEPTIVE PRACTICE|FINANCIAL IDENTIT...|           RESIDENCE| false|   false|2222|      22|  21|           71|     11|  1164887.6|  1885939.0|2014|     None|41.842606| -87.67044|                None|\n",
            "|11646166|  JC213529|09/01/2018 12:01:...|082XX S INGLESIDE...|0810|             THEFT|           OVER $500|           RESIDENCE| false|    true| 631|       6|   8|           44|     06|  1164887.6|  1885939.0|2018|     None|41.842606| -87.67044|                None|\n",
            "|11645648|  JC212959|01/01/2018 08:00:...| 024XX N MONITOR AVE|1153|DECEPTIVE PRACTICE|FINANCIAL IDENTIT...|           RESIDENCE| false|   false|2515|      25|  30|           19|     11|  1164887.6|  1885939.0|2018|     None|41.842606| -87.67044|                None|\n",
            "|11645557|  JC212685|04/01/2018 12:01:...|  080XX S VERNON AVE|1153|DECEPTIVE PRACTICE|FINANCIAL IDENTIT...|           RESIDENCE| false|   false| 631|       6|   6|           44|     11|  1164887.6|  1885939.0|2018|     None|41.842606| -87.67044|                None|\n",
            "|11645527|  JC212744|02/02/2015 10:00:...|  069XX W ARCHER AVE|1153|DECEPTIVE PRACTICE|FINANCIAL IDENTIT...|               OTHER| false|   false| 811|       8|  23|           56|     11|  1164887.6|  1885939.0|2015|     None|41.842606| -87.67044|                None|\n",
            "|11645833|  JC213044|05/05/2012 12:25:...|     057XX W OHIO ST|1153|DECEPTIVE PRACTICE|FINANCIAL IDENTIT...|                None| false|   false|1511|      15|  29|           25|     11|  1164887.6|  1885939.0|2012|     None|41.842606| -87.67044|                None|\n",
            "|11645568|  JC212803|12/18/2018 11:00:...|  032XX N WILTON AVE|1153|DECEPTIVE PRACTICE|FINANCIAL IDENTIT...|           RESIDENCE| false|   false|1924|      19|  44|            6|     11|  1164887.6|  1885939.0|2018|     None|41.842606| -87.67044|                None|\n",
            "|12045583|  JD226426|05/07/2020 10:24:...| 035XX S INDIANA AVE|0820|             THEFT|      $500 AND UNDER|           APARTMENT| false|   false| 212|       2|   3|           35|     06|  1178180.0|  1881621.0|2020|     None|41.830482| -87.62175|(41.830481843, -8...|\n",
            "|12031001|  JD209965|04/16/2020 05:00:...|     005XX W 32ND ST|0460|           BATTERY|              SIMPLE|           APARTMENT|  true|   false| 915|       9|  11|           60|    08B|  1173292.0|  1883705.0|2020|     None| 41.83631|-87.639626|(41.836310224, -8...|\n",
            "|12093529|  JD282112|07/01/2020 10:16:...|   081XX S COLES AVE|051A|           ASSAULT|AGGRAVATED - HANDGUN|              STREET|  true|   false| 422|       4|   7|           46|    04A|  1198234.0|  1851595.0|2020|     None| 41.74761| -87.54918|(41.747609555, -8...|\n",
            "|12178140|  JD381597|09/27/2020 11:29:...| 065XX S WOLCOTT AVE|0460|           BATTERY|              SIMPLE|RESIDENCE - PORCH...| false|   false| 726|       7|  15|           67|    08B|  1164812.0|  1861251.0|2020|     None|41.774876| -87.67137|(41.77487752, -87...|\n",
            "| 4144897|  HL474854|07/10/2005 03:00:...| 062XX S ABERDEEN ST|0430|           BATTERY|AGGRAVATED: OTHER...|              STREET| false|   false| 712|       7|  16|           68|    04B|  1170050.0|  1863524.0|2005|     None|41.781002| -87.65211|(41.781002663, -8...|\n",
            "| 1744168|   G553545|09/15/2001 02:00:...|     013XX W POLK ST|0460|           BATTERY|              SIMPLE|              STREET| false|   false|1213|      12|  22|           37|    08B|  1164887.6|  1885939.0|2001|     None|41.842606| -87.67044|                None|\n",
            "|11641644|  JC207234|03/31/2019 09:30:...|   005XX N ogden ave|0890|             THEFT|       FROM BUILDING|          RESTAURANT| false|   false|1215|      12|   1|           24|     06|  1164887.6|  1885939.0|2019|     None|41.842606| -87.67044|                None|\n",
            "|11615821|  JC176668|01/01/2016 12:00:...| 054XX N NATCHEZ AVE|1195|DECEPTIVE PRACTICE|FINAN EXPLOIT-ELD...|           RESIDENCE| false|    true|1613|      16|  45|           10|     11|  1164887.6|  1885939.0|2016|     None|41.842606| -87.67044|                None|\n",
            "|12126129|  JD321064|08/04/2020 08:28:...| 081XX S LOOMIS BLVD|143A| WEAPONS VIOLATION|UNLAWFUL POSSESSI...|              STREET|  true|   false| 613|       6|  21|           71|     15|  1168412.0|  1850836.0|2020|     None| 41.74622| -87.65848|(41.746220584, -8...|\n",
            "+--------+----------+--------------------+--------------------+----+------------------+--------------------+--------------------+------+--------+----+--------+----+-------------+-------+-----------+-----------+----+---------+---------+----------+--------------------+\n",
            "only showing top 20 rows\n",
            "\n"
          ]
        }
      ]
    },
    {
      "cell_type": "code",
      "source": [
        "df = df.withColumn(\"Date\", to_timestamp(\"Date\", \"MM/dd/yyyy hh:mm:ss a\"))\n",
        "df.printSchema()"
      ],
      "metadata": {
        "colab": {
          "base_uri": "https://localhost:8080/",
          "height": 0
        },
        "id": "nn7Ux4m06o8v",
        "outputId": "2e6562ab-72f7-4c8e-b2aa-67da8ba60980"
      },
      "execution_count": 37,
      "outputs": [
        {
          "output_type": "stream",
          "name": "stdout",
          "text": [
            "root\n",
            " |-- ID: integer (nullable = true)\n",
            " |-- CaseNumber: string (nullable = true)\n",
            " |-- Date: timestamp (nullable = true)\n",
            " |-- Block: string (nullable = true)\n",
            " |-- IUCR: string (nullable = true)\n",
            " |-- PrimaryType: string (nullable = true)\n",
            " |-- Description: string (nullable = true)\n",
            " |-- LocationDescription: string (nullable = false)\n",
            " |-- Arrest: string (nullable = true)\n",
            " |-- Domestic: string (nullable = true)\n",
            " |-- Beat: integer (nullable = true)\n",
            " |-- District: integer (nullable = true)\n",
            " |-- Ward: integer (nullable = true)\n",
            " |-- CommunityArea: integer (nullable = true)\n",
            " |-- FBICode: string (nullable = true)\n",
            " |-- XCoordinate: float (nullable = false)\n",
            " |-- YCoordinate: float (nullable = false)\n",
            " |-- Year: integer (nullable = true)\n",
            " |-- UpdatedOn: string (nullable = false)\n",
            " |-- Latitude: float (nullable = false)\n",
            " |-- Longitude: float (nullable = false)\n",
            " |-- Location: string (nullable = false)\n",
            "\n"
          ]
        }
      ]
    },
    {
      "cell_type": "code",
      "source": [
        "from pyspark.sql.functions import year, current_date\n",
        "from datetime import datetime, timedelta\n",
        "current_date = datetime.now()\n",
        "ten_years_ago = current_date - timedelta(days=365*10)\n",
        "print(ten_years_ago.year)\n",
        "\n",
        "2013\n",
        "\n",
        "filtered_df = df.filter(col(\"Year\") >= int(ten_years_ago.year))\n",
        "min_value = filtered_df.agg(min(col(\"Year\"))).collect()[0][0]\n",
        "min_value\n",
        "\n"
      ],
      "metadata": {
        "colab": {
          "base_uri": "https://localhost:8080/",
          "height": 0
        },
        "id": "0w5p7V5p6u0o",
        "outputId": "99d99d94-8e38-4195-fe5f-6b231b0fac60"
      },
      "execution_count": 38,
      "outputs": [
        {
          "output_type": "stream",
          "name": "stdout",
          "text": [
            "2013\n"
          ]
        },
        {
          "output_type": "execute_result",
          "data": {
            "text/plain": [
              "2013"
            ]
          },
          "metadata": {},
          "execution_count": 38
        }
      ]
    },
    {
      "cell_type": "markdown",
      "source": [
        "6.Remove all the records with the following crime types: 'NON-CRIMINAL (SUBJECT SPECIFIED)' 'OTHER OFFENSE' 'STALKING' 'NON -\n",
        "CRIMINAL'\n"
      ],
      "metadata": {
        "id": "PAdGx_wo7Cfc"
      }
    },
    {
      "cell_type": "code",
      "source": [
        "df = filtered_df.filter(col(\"PrimaryType\").isin([\n",
        "\"NON-CRIMINAL (SUBJECT SPECIFIED)\",\n",
        "\"OTHER OFFENSE\",\n",
        "\"STALKING\",\n",
        "\"NON - CRIMINAL\",\n",
        "\"ARSON\"\n",
        "]) == False)\n",
        "df.show(5)\n"
      ],
      "metadata": {
        "colab": {
          "base_uri": "https://localhost:8080/",
          "height": 0
        },
        "id": "LcfAeVal7EKt",
        "outputId": "0c8aa04f-e62f-49dc-816f-065c04c36d00"
      },
      "execution_count": 39,
      "outputs": [
        {
          "output_type": "stream",
          "name": "stdout",
          "text": [
            "+--------+----------+-------------------+--------------------+----+------------------+--------------------+-------------------+------+--------+----+--------+----+-------------+-------+-----------+-----------+----+---------+---------+---------+--------+\n",
            "|      ID|CaseNumber|               Date|               Block|IUCR|       PrimaryType|         Description|LocationDescription|Arrest|Domestic|Beat|District|Ward|CommunityArea|FBICode|XCoordinate|YCoordinate|Year|UpdatedOn| Latitude|Longitude|Location|\n",
            "+--------+----------+-------------------+--------------------+----+------------------+--------------------+-------------------+------+--------+----+--------+----+-------------+-------+-----------+-----------+----+---------+---------+---------+--------+\n",
            "|11037294|  JA371270|2015-03-18 12:00:00|   0000X W WACKER DR|1153|DECEPTIVE PRACTICE|FINANCIAL IDENTIT...|               BANK| false|   false| 111|       1|  42|           32|     11|  1164887.6|  1885939.0|2015|     None|41.842606|-87.67044|    None|\n",
            "|11646293|  JC213749|2018-12-20 15:00:00|023XX N LOCKWOOD AVE|1154|DECEPTIVE PRACTICE|FINANCIAL IDENTIT...|          APARTMENT| false|   false|2515|      25|  36|           19|     11|  1164887.6|  1885939.0|2018|     None|41.842606|-87.67044|    None|\n",
            "|11645836|  JC212333|2016-05-01 00:25:00| 055XX S ROCKWELL ST|1153|DECEPTIVE PRACTICE|FINANCIAL IDENTIT...|               None| false|   false| 824|       8|  15|           63|     11|  1164887.6|  1885939.0|2016|     None|41.842606|-87.67044|    None|\n",
            "|11645601|  JC212935|2014-06-01 00:01:00| 087XX S SANGAMON ST|1153|DECEPTIVE PRACTICE|FINANCIAL IDENTIT...|          RESIDENCE| false|   false|2222|      22|  21|           71|     11|  1164887.6|  1885939.0|2014|     None|41.842606|-87.67044|    None|\n",
            "|11646166|  JC213529|2018-09-01 00:01:00|082XX S INGLESIDE...|0810|             THEFT|           OVER $500|          RESIDENCE| false|    true| 631|       6|   8|           44|     06|  1164887.6|  1885939.0|2018|     None|41.842606|-87.67044|    None|\n",
            "+--------+----------+-------------------+--------------------+----+------------------+--------------------+-------------------+------+--------+----+--------+----+-------------+-------+-----------+-----------+----+---------+---------+---------+--------+\n",
            "only showing top 5 rows\n",
            "\n"
          ]
        }
      ]
    },
    {
      "cell_type": "markdown",
      "source": [
        "7.Merge the similar crime types. For example, change 'Primary Type' of cases that have 'Primary Type' as ‘SEX OFFENSE’ or ‘PROSTITUTION’\n",
        "such that they should have the same 'Primary Type'.\n"
      ],
      "metadata": {
        "id": "2GbBywkd7O9Q"
      }
    },
    {
      "cell_type": "code",
      "source": [
        "df.select('PrimaryType').distinct().show(150, False)\n"
      ],
      "metadata": {
        "colab": {
          "base_uri": "https://localhost:8080/",
          "height": 0
        },
        "id": "8lXRym4n7QT2",
        "outputId": "d7d1d5ee-8ec1-407b-f010-7fcdadcb81dc"
      },
      "execution_count": 51,
      "outputs": [
        {
          "output_type": "stream",
          "name": "stdout",
          "text": [
            "+---------------------------------+\n",
            "|PrimaryType                      |\n",
            "+---------------------------------+\n",
            "|OFFENSE INVOLVING CHILDREN       |\n",
            "|CRIMINAL SEXUAL ASSAULT          |\n",
            "|PUBLIC PEACE VIOLATION           |\n",
            "|OBSCENITY                        |\n",
            "|GAMBLING                         |\n",
            "|CRIMINAL TRESPASS                |\n",
            "|ASSAULT                          |\n",
            "|LIQUOR LAW VIOLATION             |\n",
            "|MOTOR VEHICLE THEFT              |\n",
            "|THEFT                            |\n",
            "|BATTERY                          |\n",
            "|ROBBERY                          |\n",
            "|HOMICIDE                         |\n",
            "|RITUALISM                        |\n",
            "|PUBLIC INDECENCY                 |\n",
            "|CRIM SEXUAL ASSAULT              |\n",
            "|HUMAN TRAFFICKING                |\n",
            "|INTIMIDATION                     |\n",
            "|PROSTITUTION                     |\n",
            "|DECEPTIVE PRACTICE               |\n",
            "|CONCEALED CARRY LICENSE VIOLATION|\n",
            "|SEX OFFENSE                      |\n",
            "|CRIMINAL DAMAGE                  |\n",
            "|NARCOTICS                        |\n",
            "|NON-CRIMINAL                     |\n",
            "|KIDNAPPING                       |\n",
            "|BURGLARY                         |\n",
            "|WEAPONS VIOLATION                |\n",
            "|OTHER NARCOTIC VIOLATION         |\n",
            "|INTERFERENCE WITH PUBLIC OFFICER |\n",
            "+---------------------------------+\n",
            "\n"
          ]
        }
      ]
    },
    {
      "cell_type": "code",
      "source": [
        "merged_df = df.withColumn(\n",
        "\"MergedPrimaryType\",\n",
        "when(\n",
        "(col(\"PrimaryType\") == \"SEX OFFENSE\") | (col(\"PrimaryType\") == \"PROSTITUTION\"),\n",
        "\"SEX OFFENSE/PROSTITUTION\"\n",
        ").when(\n",
        "(col(\"PrimaryType\") == \"BURGLARY\") | (col(\"PrimaryType\") == \"ROBBERY\") | (col(\"PrimaryType\") == \"THEFT\"),\n",
        "\"BURGLARY/ROBBERY/THEFT\"\n",
        ").otherwise(col(\"PrimaryType\"))\n",
        ")"
      ],
      "metadata": {
        "id": "_vqvQsaK7afl"
      },
      "execution_count": 41,
      "outputs": []
    },
    {
      "cell_type": "code",
      "source": [
        "merged_df.show(100)\n"
      ],
      "metadata": {
        "colab": {
          "base_uri": "https://localhost:8080/",
          "height": 0
        },
        "id": "4-KbqXTB7hZl",
        "outputId": "d8c4af25-65fd-4f51-d36c-a26c240e27d3"
      },
      "execution_count": 42,
      "outputs": [
        {
          "output_type": "stream",
          "name": "stdout",
          "text": [
            "+--------+----------+-------------------+--------------------+----+--------------------+--------------------+--------------------+------+--------+----+--------+----+-------------+-------+-----------+-----------+----+---------+---------+----------+--------------------+--------------------+\n",
            "|      ID|CaseNumber|               Date|               Block|IUCR|         PrimaryType|         Description| LocationDescription|Arrest|Domestic|Beat|District|Ward|CommunityArea|FBICode|XCoordinate|YCoordinate|Year|UpdatedOn| Latitude| Longitude|            Location|   MergedPrimaryType|\n",
            "+--------+----------+-------------------+--------------------+----+--------------------+--------------------+--------------------+------+--------+----+--------+----+-------------+-------+-----------+-----------+----+---------+---------+----------+--------------------+--------------------+\n",
            "|11037294|  JA371270|2015-03-18 12:00:00|   0000X W WACKER DR|1153|  DECEPTIVE PRACTICE|FINANCIAL IDENTIT...|                BANK| false|   false| 111|       1|  42|           32|     11|  1164887.6|  1885939.0|2015|     None|41.842606| -87.67044|                None|  DECEPTIVE PRACTICE|\n",
            "|11646293|  JC213749|2018-12-20 15:00:00|023XX N LOCKWOOD AVE|1154|  DECEPTIVE PRACTICE|FINANCIAL IDENTIT...|           APARTMENT| false|   false|2515|      25|  36|           19|     11|  1164887.6|  1885939.0|2018|     None|41.842606| -87.67044|                None|  DECEPTIVE PRACTICE|\n",
            "|11645836|  JC212333|2016-05-01 00:25:00| 055XX S ROCKWELL ST|1153|  DECEPTIVE PRACTICE|FINANCIAL IDENTIT...|                None| false|   false| 824|       8|  15|           63|     11|  1164887.6|  1885939.0|2016|     None|41.842606| -87.67044|                None|  DECEPTIVE PRACTICE|\n",
            "|11645601|  JC212935|2014-06-01 00:01:00| 087XX S SANGAMON ST|1153|  DECEPTIVE PRACTICE|FINANCIAL IDENTIT...|           RESIDENCE| false|   false|2222|      22|  21|           71|     11|  1164887.6|  1885939.0|2014|     None|41.842606| -87.67044|                None|  DECEPTIVE PRACTICE|\n",
            "|11646166|  JC213529|2018-09-01 00:01:00|082XX S INGLESIDE...|0810|               THEFT|           OVER $500|           RESIDENCE| false|    true| 631|       6|   8|           44|     06|  1164887.6|  1885939.0|2018|     None|41.842606| -87.67044|                None|BURGLARY/ROBBERY/...|\n",
            "|11645648|  JC212959|2018-01-01 08:00:00| 024XX N MONITOR AVE|1153|  DECEPTIVE PRACTICE|FINANCIAL IDENTIT...|           RESIDENCE| false|   false|2515|      25|  30|           19|     11|  1164887.6|  1885939.0|2018|     None|41.842606| -87.67044|                None|  DECEPTIVE PRACTICE|\n",
            "|11645557|  JC212685|2018-04-01 00:01:00|  080XX S VERNON AVE|1153|  DECEPTIVE PRACTICE|FINANCIAL IDENTIT...|           RESIDENCE| false|   false| 631|       6|   6|           44|     11|  1164887.6|  1885939.0|2018|     None|41.842606| -87.67044|                None|  DECEPTIVE PRACTICE|\n",
            "|11645527|  JC212744|2015-02-02 10:00:00|  069XX W ARCHER AVE|1153|  DECEPTIVE PRACTICE|FINANCIAL IDENTIT...|               OTHER| false|   false| 811|       8|  23|           56|     11|  1164887.6|  1885939.0|2015|     None|41.842606| -87.67044|                None|  DECEPTIVE PRACTICE|\n",
            "|11645568|  JC212803|2018-12-18 11:00:00|  032XX N WILTON AVE|1153|  DECEPTIVE PRACTICE|FINANCIAL IDENTIT...|           RESIDENCE| false|   false|1924|      19|  44|            6|     11|  1164887.6|  1885939.0|2018|     None|41.842606| -87.67044|                None|  DECEPTIVE PRACTICE|\n",
            "|12045583|  JD226426|2020-05-07 10:24:00| 035XX S INDIANA AVE|0820|               THEFT|      $500 AND UNDER|           APARTMENT| false|   false| 212|       2|   3|           35|     06|  1178180.0|  1881621.0|2020|     None|41.830482| -87.62175|(41.830481843, -8...|BURGLARY/ROBBERY/...|\n",
            "|12031001|  JD209965|2020-04-16 05:00:00|     005XX W 32ND ST|0460|             BATTERY|              SIMPLE|           APARTMENT|  true|   false| 915|       9|  11|           60|    08B|  1173292.0|  1883705.0|2020|     None| 41.83631|-87.639626|(41.836310224, -8...|             BATTERY|\n",
            "|12093529|  JD282112|2020-07-01 10:16:00|   081XX S COLES AVE|051A|             ASSAULT|AGGRAVATED - HANDGUN|              STREET|  true|   false| 422|       4|   7|           46|    04A|  1198234.0|  1851595.0|2020|     None| 41.74761| -87.54918|(41.747609555, -8...|             ASSAULT|\n",
            "|12178140|  JD381597|2020-09-27 23:29:00| 065XX S WOLCOTT AVE|0460|             BATTERY|              SIMPLE|RESIDENCE - PORCH...| false|   false| 726|       7|  15|           67|    08B|  1164812.0|  1861251.0|2020|     None|41.774876| -87.67137|(41.77487752, -87...|             BATTERY|\n",
            "|11641644|  JC207234|2019-03-31 09:30:00|   005XX N ogden ave|0890|               THEFT|       FROM BUILDING|          RESTAURANT| false|   false|1215|      12|   1|           24|     06|  1164887.6|  1885939.0|2019|     None|41.842606| -87.67044|                None|BURGLARY/ROBBERY/...|\n",
            "|11615821|  JC176668|2016-01-01 12:00:00| 054XX N NATCHEZ AVE|1195|  DECEPTIVE PRACTICE|FINAN EXPLOIT-ELD...|           RESIDENCE| false|    true|1613|      16|  45|           10|     11|  1164887.6|  1885939.0|2016|     None|41.842606| -87.67044|                None|  DECEPTIVE PRACTICE|\n",
            "|12126129|  JD321064|2020-08-04 20:28:00| 081XX S LOOMIS BLVD|143A|   WEAPONS VIOLATION|UNLAWFUL POSSESSI...|              STREET|  true|   false| 613|       6|  21|           71|     15|  1168412.0|  1850836.0|2020|     None| 41.74622| -87.65848|(41.746220584, -8...|   WEAPONS VIOLATION|\n",
            "|11642709|  JC208560|2019-03-31 11:00:00|   0000X E MONROE ST|0890|               THEFT|       FROM BUILDING|         HOTEL/MOTEL| false|   false| 112|       1|  42|           32|     06|  1164887.6|  1885939.0|2019|     None|41.842606| -87.67044|                None|BURGLARY/ROBBERY/...|\n",
            "|11642710|  JC209088|2019-03-31 01:00:00|    015XX N WELLS ST|0890|               THEFT|       FROM BUILDING|       BAR OR TAVERN| false|   false|1821|      18|  27|            8|     06|  1164887.6|  1885939.0|2019|     None|41.842606| -87.67044|                None|BURGLARY/ROBBERY/...|\n",
            "|11641400|  JC207897|2018-07-26 13:00:00|  041XX N KEELER AVE|1130|  DECEPTIVE PRACTICE|FRAUD OR CONFIDEN...|           RESIDENCE| false|   false|1722|      17|  39|           16|     11|  1164887.6|  1885939.0|2018|     None|41.842606| -87.67044|                None|  DECEPTIVE PRACTICE|\n",
            "|11646766|  JC214025|2018-01-01 09:10:00| 019XX N KENMORE AVE|1153|  DECEPTIVE PRACTICE|FINANCIAL IDENTIT...|                None| false|   false|1811|      18|  43|            7|     11|  1164887.6|  1885939.0|2018|     None|41.842606| -87.67044|                None|  DECEPTIVE PRACTICE|\n",
            "|11646550|  JC214099|2018-10-04 12:00:00|   092XX S PERRY AVE|1120|  DECEPTIVE PRACTICE|             FORGERY|               OTHER| false|   false| 634|       6|  21|           49|     10|  1164887.6|  1885939.0|2018|     None|41.842606| -87.67044|                None|  DECEPTIVE PRACTICE|\n",
            "|12067286|  JD251718|2020-06-02 22:00:00| 042XX S EMERALD AVE|0820|               THEFT|      $500 AND UNDER|              STREET|  true|   false| 925|       9|  11|           61|     06|  1172009.0|  1876708.0|2020|     None| 41.81714| -87.64454|(41.817138145, -8...|BURGLARY/ROBBERY/...|\n",
            "|11641640|  JC207466|2019-03-31 12:30:00|   037XX W Ogden Ave|0820|               THEFT|      $500 AND UNDER|       ATHLETIC CLUB| false|   false|1014|      10|  24|           29|     06|  1164887.6|  1885939.0|2019|     None|41.842606| -87.67044|                None|BURGLARY/ROBBERY/...|\n",
            "|11644829|  JC211523|2019-04-01 15:00:00|005XX W ARLINGTON PL|0890|               THEFT|       FROM BUILDING|           APARTMENT| false|   false|1935|      19|  43|            7|     06|  1164887.6|  1885939.0|2019|     None|41.842606| -87.67044|                None|BURGLARY/ROBBERY/...|\n",
            "|11647549|  JC214237|2018-06-07 15:00:00|102XX S EGGLESTON...|0820|               THEFT|      $500 AND UNDER|               OTHER| false|   false|2232|      22|   9|           73|     06|  1164887.6|  1885939.0|2018|     None|41.842606| -87.67044|                None|BURGLARY/ROBBERY/...|\n",
            "|11646393|  JC213889|2018-12-01 08:00:00|     026XX W 25TH ST|1153|  DECEPTIVE PRACTICE|FINANCIAL IDENTIT...|           RESIDENCE| false|   false|1034|      10|  24|           30|     11|  1164887.6|  1885939.0|2018|     None|41.842606| -87.67044|                None|  DECEPTIVE PRACTICE|\n",
            "|12163191|  JD364357|2020-09-11 22:44:00|008XX N TRUMBULL AVE|0486|             BATTERY|DOMESTIC BATTERY ...|           RESIDENCE|  true|    true|1121|      11|  27|           23|    08B|  1153223.0|  1905475.0|2020|     None| 41.89647|-87.712685|(41.896470682, -8...|             BATTERY|\n",
            "|12142075|  JD339709|2020-08-21 00:00:00|015XX N MILWAUKEE...|0420|             BATTERY|AGGRAVATED - KNIF...|            SIDEWALK| false|   false|1424|      14|   1|           24|    04B|  1163078.0|  1910357.0|2020|     None|41.909664| -87.67635|(41.90966592, -87...|             BATTERY|\n",
            "|11647702|  JC214957|2019-02-23 23:00:00|     0000X E 75TH ST|0820|               THEFT|      $500 AND UNDER|       BAR OR TAVERN| false|   false| 623|       6|   6|           69|     06|  1164887.6|  1885939.0|2019|     None|41.842606| -87.67044|                None|BURGLARY/ROBBERY/...|\n",
            "|11642696|  JC209087|2019-04-01 00:00:00|  021XX W Crystal St|0810|               THEFT|           OVER $500|RESIDENCE PORCH/H...| false|   false|1424|      14|   2|           24|     06|  1164887.6|  1885939.0|2019|     None|41.842606| -87.67044|                None|BURGLARY/ROBBERY/...|\n",
            "|11647523|  JC215281|2018-11-11 00:01:00|  016XX W WALLEN AVE|1140|  DECEPTIVE PRACTICE|        EMBEZZLEMENT|           APARTMENT| false|   false|2432|      24|  49|            1|     12|  1164887.6|  1885939.0|2018|     None|41.842606| -87.67044|                None|  DECEPTIVE PRACTICE|\n",
            "|11648173|  JC216048|2018-11-01 00:00:00|062XX S MARSHFIEL...|1153|  DECEPTIVE PRACTICE|FINANCIAL IDENTIT...|           APARTMENT| false|   false| 714|       7|  16|           67|     11|  1164887.6|  1885939.0|2018|     None|41.842606| -87.67044|                None|  DECEPTIVE PRACTICE|\n",
            "|12005594|  JD181480|2020-03-11 00:00:00|     040XX W 26TH ST|0860|               THEFT|        RETAIL THEFT|  SMALL RETAIL STORE| false|   false|1031|      10|  22|           30|     06|  1150021.0|  1886423.0|2020|     None|41.844254|-87.724945|(41.844252757, -8...|BURGLARY/ROBBERY/...|\n",
            "|12070567|  JD249245|2020-06-01 01:20:00|024XX N MILWAUKEE...|0620|            BURGLARY|      UNLAWFUL ENTRY|  SMALL RETAIL STORE| false|   false|1414|      14|   1|           22|     05|  1156086.0|  1916141.0|2020|     None|41.925682| -87.70188|(41.925681769, -8...|BURGLARY/ROBBERY/...|\n",
            "|12057551|  JD240361|2020-05-23 12:20:00| 068XX S LOOMIS BLVD|0486|             BATTERY|DOMESTIC BATTERY ...|              STREET| false|    true| 724|       7|  17|           67|    08B|  1168179.0|  1859299.0|2020|     None|41.769447| -87.65909|(41.769449202, -8...|             BATTERY|\n",
            "|12057185|  JD239952|2020-05-22 22:29:00|   0000X N LOREL AVE|2024|           NARCOTICS|POSSESS - HEROIN ...|              STREET|  true|   false|1522|      15|  28|           25|     18|  1140721.0|  1899686.0|2020|     None|41.880825| -87.75875|(41.880823946, -8...|           NARCOTICS|\n",
            "|12107263|  JD298884|2020-07-15 22:15:00| 070XX S CHAPPEL AVE|0560|             ASSAULT|              SIMPLE|           APARTMENT| false|    true| 331|       3|   5|           43|    08A|  1191099.0|  1858560.0|2020|     None|  41.7669|-87.575096|(41.766897557, -8...|             ASSAULT|\n",
            "|11445072|  JB415614|2018-08-30 19:45:00| 031XX W HARRISON ST|2027|           NARCOTICS|         POSS: CRACK|POLICE FACILITY/V...|  true|   false|1134|      11|  24|           27|     18|  1164887.6|  1885939.0|2018|     None|41.842606| -87.67044|                None|           NARCOTICS|\n",
            "|11645849|  JC209353|2018-11-27 20:43:00|   0000X E CERMAK RD|2250|LIQUOR LAW VIOLATION|LIQUOR LICENSE VI...| TAVERN/LIQUOR STORE|  true|   false| 131|       1|   3|           33|     22|  1164887.6|  1885939.0|2018|     None|41.842606| -87.67044|                None|LIQUOR LAW VIOLATION|\n",
            "|11451058|  JB397122|2018-08-17 10:15:00|   038XX W MONROE ST|2014|           NARCOTICS|MANU/DELIVER: HER...|VEHICLE NON-COMME...|  true|   false|1122|      11|  28|           26|     18|  1164887.6|  1885939.0|2018|     None|41.842606| -87.67044|                None|           NARCOTICS|\n",
            "|11648354|  JC216274|2017-01-31 00:00:00|070XX S FAIRFIELD...|1153|  DECEPTIVE PRACTICE|FINANCIAL IDENTIT...|               OTHER| false|   false| 831|       8|  17|           66|     11|  1164887.6|  1885939.0|2017|     None|41.842606| -87.67044|                None|  DECEPTIVE PRACTICE|\n",
            "|11648713|  JC216698|2017-02-25 18:00:00|   048XX N AVERS AVE|0281| CRIM SEXUAL ASSAULT|      NON-AGGRAVATED|           RESIDENCE| false|    true|1712|      17|  39|           14|     02|  1164887.6|  1885939.0|2017|     None|41.842606| -87.67044|                None| CRIM SEXUAL ASSAULT|\n",
            "|11642699|  JC209083|2019-04-02 11:44:00|    016XX W LUNT AVE|0820|               THEFT|      $500 AND UNDER|RESIDENCE PORCH/H...| false|   false|2423|      24|  49|            1|     06|  1164887.6|  1885939.0|2019|     None|41.842606| -87.67044|                None|BURGLARY/ROBBERY/...|\n",
            "|11648485|  JC216504|2018-11-01 00:00:00|  076XX S PAXTON AVE|1130|  DECEPTIVE PRACTICE|FRAUD OR CONFIDEN...|           RESIDENCE| false|   false| 414|       4|   8|           43|     11|  1164887.6|  1885939.0|2018|     None|41.842606| -87.67044|                None|  DECEPTIVE PRACTICE|\n",
            "|11648807|  JC216267|2019-04-01 11:00:00| 057XX S KIMBARK AVE|0820|               THEFT|      $500 AND UNDER|RESIDENCE PORCH/H...| false|   false| 235|       2|   5|           41|     06|  1164887.6|  1885939.0|2019|     None|41.842606| -87.67044|                None|BURGLARY/ROBBERY/...|\n",
            "|11648818|  JC216121|2016-05-08 09:45:00|     0000X W 73RD ST|1153|  DECEPTIVE PRACTICE|FINANCIAL IDENTIT...|                None| false|   false| 731|       7|   6|           69|     11|  1164887.6|  1885939.0|2016|     None|41.842606| -87.67044|                None|  DECEPTIVE PRACTICE|\n",
            "|11648241|  JC216160|2014-07-25 09:00:00|    040XX W 115TH ST|1153|  DECEPTIVE PRACTICE|FINANCIAL IDENTIT...|           APARTMENT| false|   false|2211|      22|  19|           74|     11|  1164887.6|  1885939.0|2014|     None|41.842606| -87.67044|                None|  DECEPTIVE PRACTICE|\n",
            "|11649199|  JC217367|2018-11-23 08:00:00| 070XX N WESTERN AVE|1153|  DECEPTIVE PRACTICE|FINANCIAL IDENTIT...|  SMALL RETAIL STORE| false|   false|2411|      24|  50|            2|     11|  1164887.6|  1885939.0|2018|     None|41.842606| -87.67044|                None|  DECEPTIVE PRACTICE|\n",
            "|11648806|  JC216119|2013-12-01 09:20:00|001XX E MARQUETTE RD|1153|  DECEPTIVE PRACTICE|FINANCIAL IDENTIT...|                None| false|   false| 322|       3|   6|           69|     11|  1164887.6|  1885939.0|2013|     None|41.842606| -87.67044|                None|  DECEPTIVE PRACTICE|\n",
            "|11649227|  JC217417|2018-12-26 13:00:00|  073XX N RIDGE BLVD|0810|               THEFT|           OVER $500|           RESIDENCE| false|   false|2424|      24|  49|            1|     06|  1164887.6|  1885939.0|2018|     None|41.842606| -87.67044|                None|BURGLARY/ROBBERY/...|\n",
            "|12164381|  JD361415|2020-09-09 09:23:00|  081XX S VERNON AVE|0560|             ASSAULT|              SIMPLE|           RESIDENCE| false|   false| 631|       6|   6|           44|    08A|  1180660.0|  1851072.0|2020|     None|41.746597|-87.613594|(41.746595831, -8...|             ASSAULT|\n",
            "|12126191|  JD321188|2020-08-05 01:00:00|025XX S MICHIGAN AVE|0454|             BATTERY|AGGRAVATED P.O. -...|HOSPITAL BUILDING...|  true|   false| 133|       1|   4|           33|    08B|  1177647.0|  1887564.0|2020|     None|  41.8468| -87.62353|(41.846801978, -8...|             BATTERY|\n",
            "|12018869|  JD196508|2020-03-27 23:20:00|066XX S SPAULDING...|141A|   WEAPONS VIOLATION|UNLAWFUL USE - HA...|              STREET| false|   false| 831|       8|  15|           66|     15|  1155539.0|  1860219.0|2020|     None|41.772236|  -87.7054|(41.772236394, -8...|   WEAPONS VIOLATION|\n",
            "|12044629|  JD225380|2020-05-05 22:00:00|   079XX S THROOP ST|0810|               THEFT|           OVER $500|              STREET| false|   false| 612|       6|  21|           71|     06|  1169042.0|  1851982.0|2020|     None| 41.74935|-87.656136|(41.749351783, -8...|BURGLARY/ROBBERY/...|\n",
            "|12157580|  JD357987|2020-09-05 23:50:00| 022XX W MAYPOLE AVE|0486|             BATTERY|DOMESTIC BATTERY ...|       CHA APARTMENT| false|    true|1223|      12|  27|           28|    08B|  1161251.0|  1900967.0|2020|     None|41.883938| -87.68333|(41.883937205, -8...|             BATTERY|\n",
            "|12045468|  JD225478|2020-05-05 22:00:00|    104XX S AVENUE M|0910| MOTOR VEHICLE THEFT|          AUTOMOBILE|DRIVEWAY - RESIDE...| false|   false| 432|       4|  10|           52|     07|  1201505.0|  1836426.0|2020|     None|41.705902|-87.537704|(41.705902269, -8...| MOTOR VEHICLE THEFT|\n",
            "|12132877|  JD329246|2020-08-12 02:20:00|102XX S DR MARTIN...|1310|     CRIMINAL DAMAGE|         TO PROPERTY|           RESIDENCE| false|   false| 511|       5|   9|           49|     14|  1180720.0|  1837168.0|2020|     None| 41.70844|  -87.6138|(41.708440181, -8...|     CRIMINAL DAMAGE|\n",
            "|12097474|  JD287186|2020-07-05 17:18:00| 007XX N CENTRAL AVE|0454|             BATTERY|AGGRAVATED P.O. -...|              STREET|  true|    true|1511|      15|  29|           25|    08B|  1138896.0|  1904260.0|2020|     None| 41.89341|-87.765335|(41.893408918, -8...|             BATTERY|\n",
            "|12005082|  JD180933|2020-03-10 15:40:00|     016XX W 63RD ST|0486|             BATTERY|DOMESTIC BATTERY ...|              STREET| false|    true| 714|       7|  16|           67|    08B|  1166666.0|  1862932.0|2020|     None| 41.77945| -87.66453|(41.779451037, -8...|             BATTERY|\n",
            "|12007650|  JD183972|2020-03-12 20:00:00|  092XX S LUELLA AVE|1320|     CRIMINAL DAMAGE|          TO VEHICLE|              STREET| false|   false| 413|       4|   7|           48|     14|  1192789.0|  1843974.0|2020|     None| 41.72683| -87.56938|(41.726831283, -8...|     CRIMINAL DAMAGE|\n",
            "|12153480|  JD353103|2020-08-20 10:00:00|    087XX S STATE ST|1120|  DECEPTIVE PRACTICE|             FORGERY|                BANK| false|   false| 632|       6|  21|           44|     10|  1177810.0|  1847135.0|2020|     None| 41.73586| -87.62415|(41.735857166, -8...|  DECEPTIVE PRACTICE|\n",
            "|11649962|  JC218252|2018-01-16 10:25:00|   087XX S BISHOP ST|1153|  DECEPTIVE PRACTICE|FINANCIAL IDENTIT...|                None| false|   false|2222|      22|  21|           71|     11|  1164887.6|  1885939.0|2018|     None|41.842606| -87.67044|                None|  DECEPTIVE PRACTICE|\n",
            "|12038537|  JD218490|2020-04-27 10:00:00|   048XX W HIRSCH ST|1153|  DECEPTIVE PRACTICE|FINANCIAL IDENTIT...|           RESIDENCE| false|   false|2533|      25|  37|           25|     11|  1143843.0|  1908874.0|2020|     None| 41.90598|-87.747055|(41.90597895, -87...|  DECEPTIVE PRACTICE|\n",
            "|12028031|  JD204153|2020-04-07 16:50:00|064XX S DR MARTIN...|0420|             BATTERY|AGGRAVATED - KNIF...|PARKING LOT / GAR...| false|   false| 312|       3|  20|           42|    04B|  1180025.0|  1862499.0|2020|     None|41.777966| -87.61557|(41.777967289, -8...|             BATTERY|\n",
            "|12149106|  JD346721|2020-08-27 01:00:00|057XX S MICHIGAN AVE|0810|               THEFT|           OVER $500|              STREET| false|   false| 232|       2|  20|           40|     06|  1178134.0|  1867092.0|2020|     None|41.790615| -87.62236|(41.790614044, -8...|BURGLARY/ROBBERY/...|\n",
            "|12130216|  JD325560|2020-08-08 22:10:00| 029XX W HARRISON ST|1310|     CRIMINAL DAMAGE|         TO PROPERTY|       CHA APARTMENT| false|    true|1135|      11|  27|           27|     14|  1156794.0|  1897225.0|2020|     None| 41.87376|  -87.6998|(41.873760261, -8...|     CRIMINAL DAMAGE|\n",
            "|12155951|  JD356001|2020-09-02 14:00:00|   001XX W GOETHE ST|1320|     CRIMINAL DAMAGE|          TO VEHICLE|              STREET| false|   false|1821|      18|   2|            8|     14|  1175214.0|  1909036.0|2020|     None|41.905777| -87.63181|(41.905777306, -8...|     CRIMINAL DAMAGE|\n",
            "|12021433|  JD199345|2020-04-01 00:00:00|050XX W WASHINGTO...|1310|     CRIMINAL DAMAGE|         TO PROPERTY|           RESIDENCE| false|   false|1532|      15|  28|           25|     14|  1142697.0|  1900032.0|2020|     None|41.881737| -87.75148|(41.88173688, -87...|     CRIMINAL DAMAGE|\n",
            "|11649963|  JC217297|2019-02-25 09:00:00|  009XX N Racine Ave|1153|  DECEPTIVE PRACTICE|FINANCIAL IDENTIT...|                None| false|   false|1213|      12|  27|           24|     11|  1164887.6|  1885939.0|2019|     None|41.842606| -87.67044|                None|  DECEPTIVE PRACTICE|\n",
            "|11649676|  JC217968|2018-03-09 07:00:00|050XX S DR MARTIN...|1154|  DECEPTIVE PRACTICE|FINANCIAL IDENTIT...|           APARTMENT| false|   false| 223|       2|   3|           38|     11|  1164887.6|  1885939.0|2018|     None|41.842606| -87.67044|                None|  DECEPTIVE PRACTICE|\n",
            "|11649438|  JC217626|2018-12-01 10:00:00|  0000X W HUBBARD ST|1140|  DECEPTIVE PRACTICE|        EMBEZZLEMENT|COMMERCIAL / BUSI...| false|   false|1831|      18|  42|            8|     12|  1164887.6|  1885939.0|2018|     None|41.842606| -87.67044|                None|  DECEPTIVE PRACTICE|\n",
            "|11649626|  JC217834|2018-08-20 00:00:00|   005XX W DEMING PL|1153|  DECEPTIVE PRACTICE|FINANCIAL IDENTIT...|           APARTMENT| false|   false|1935|      19|  43|            7|     11|  1164887.6|  1885939.0|2018|     None|41.842606| -87.67044|                None|  DECEPTIVE PRACTICE|\n",
            "|11649947|  JC217353|2018-06-07 16:50:00|047XX S INGLESIDE...|1150|  DECEPTIVE PRACTICE|   CREDIT CARD FRAUD|    DEPARTMENT STORE| false|   false| 222|       2|   4|           39|     11|  1164887.6|  1885939.0|2018|     None|41.842606| -87.67044|                None|  DECEPTIVE PRACTICE|\n",
            "|11649752|  JC218094|2016-03-19 15:03:00|    069XX N CLARK ST|1154|  DECEPTIVE PRACTICE|FINANCIAL IDENTIT...|             LIBRARY| false|   false|2431|      24|  49|            1|     11|  1164887.6|  1885939.0|2016|     None|41.842606| -87.67044|                None|  DECEPTIVE PRACTICE|\n",
            "|12175074|  JD377353|2020-09-18 17:00:00|  007XX W ADDISON ST|0890|               THEFT|       FROM BUILDING|           APARTMENT| false|   false|1925|      19|  46|            6|     06|  1170599.0|  1924135.0|2020|     None| 41.94731| -87.64832|(41.947311989, -8...|BURGLARY/ROBBERY/...|\n",
            "|12110981|  JD303391|2020-07-20 01:30:00|     007XX E 47TH ST|0498|             BATTERY|AGG. DOMESTIC BAT...|           APARTMENT| false|    true| 223|       2|   4|           38|    04B|  1182174.0|  1874015.0|2020|     None|41.809517| -87.60733|(41.809518699, -8...|             BATTERY|\n",
            "|12036246|  JD215867|2020-04-23 12:00:00| 085XX S CALUMET AVE|0890|               THEFT|       FROM BUILDING|           APARTMENT| false|   false| 632|       6|   6|           44|     06|  1179963.0|  1848497.0|2020|     None|41.739544| -87.61623|(41.739545702, -8...|BURGLARY/ROBBERY/...|\n",
            "|12122483|  JD316923|2020-07-31 23:15:00|021XX N SPRINGFIE...|0486|             BATTERY|DOMESTIC BATTERY ...|           APARTMENT| false|    true|2525|      25|  26|           22|    08B|  1150028.0|  1914088.0|2020|     None| 41.92017|  -87.7242|(41.920168413, -8...|             BATTERY|\n",
            "|12098557|  JD288415|2019-02-01 00:01:00|     025XX W 50TH ST|0460|             BATTERY|              SIMPLE|           RESIDENCE| false|    true| 923|       9|  14|           63|    08B|  1160373.0|  1871438.0|2019|     None|41.802925| -87.68737|(41.802924631, -8...|             BATTERY|\n",
            "|12201546|  JD408379|2020-10-22 09:55:00|  044XX N SEELEY AVE|1153|  DECEPTIVE PRACTICE|FINANCIAL IDENTIT...|                None| false|   false|1911|      19|  47|            4|     11|  1164887.6|  1885939.0|2020|     None|41.842606| -87.67044|                None|  DECEPTIVE PRACTICE|\n",
            "|12146876|  JD345261|2020-08-10 08:30:00|    030XX N CLARK ST|0910| MOTOR VEHICLE THEFT|          AUTOMOBILE|              STREET| false|   false|1934|      19|  44|            6|     07|  1170665.0|  1920334.0|2020|     None|41.936882| -87.64819|(41.936880447, -8...| MOTOR VEHICLE THEFT|\n",
            "|11650067|  JC218386|2013-07-28 12:00:00|003XX S MICHIGAN AVE|1153|  DECEPTIVE PRACTICE|FINANCIAL IDENTIT...|           RESIDENCE| false|   false| 113|       1|  42|           32|     11|  1164887.6|  1885939.0|2013|     None|41.842606| -87.67044|                None|  DECEPTIVE PRACTICE|\n",
            "|12041702|  JD221976|2020-05-02 02:23:00|033XX W EVERGREEN...|0486|             BATTERY|DOMESTIC BATTERY ...|           APARTMENT| false|    true|1422|      14|  26|           23|    08B|  1153807.0|  1908780.0|2020|     None| 41.90553| -87.71046|(41.905528298, -8...|             BATTERY|\n",
            "|12000109|  JD174679|2020-03-05 09:57:00|  003XX S WHIPPLE ST|041A|             BATTERY|AGGRAVATED - HANDGUN|              STREET| false|   false|1124|      11|  28|           27|    04B|  1156097.0|  1898378.0|2020|     None|41.876938|-87.702324|(41.876938298, -8...|             BATTERY|\n",
            "|12104622|  JD295698|2020-07-13 09:15:00|  073XX N HARLEM AVE|0486|             BATTERY|DOMESTIC BATTERY ...|           APARTMENT| false|    true|1611|      16|  41|            9|    08B|  1127389.0|  1948313.0|2020|     None|42.014496|  -87.8066|(42.014496646, -8...|             BATTERY|\n",
            "|12050620|  JD232293|2020-05-14 15:00:00|071XX S JEFFERY BLVD|0860|               THEFT|        RETAIL THEFT|  GROCERY FOOD STORE| false|   false| 333|       3|   5|           43|     06|  1190776.0|  1858184.0|2020|     None|41.765873|-87.576294|(41.76587359, -87...|BURGLARY/ROBBERY/...|\n",
            "|12049191|  JD230710|2020-05-07 00:00:00|  020XX W BERWYN AVE|0890|               THEFT|       FROM BUILDING|           APARTMENT| false|   false|2012|      20|  40|            4|     06|  1161850.0|  1935191.0|2020|     None|41.977837| -87.68017|(41.977837548, -8...|BURGLARY/ROBBERY/...|\n",
            "|11651102|  JC219225|2016-03-01 08:55:00|005XX N LECLAIRE AVE|1153|  DECEPTIVE PRACTICE|FINANCIAL IDENTIT...|                None| false|   false|1532|      15|  37|           25|     11|  1164887.6|  1885939.0|2016|     None|41.842606| -87.67044|                None|  DECEPTIVE PRACTICE|\n",
            "|11651429|  JC218513|2018-11-01 22:00:00|    0000X E 110TH PL|1220|  DECEPTIVE PRACTICE|THEFT OF LOST/MIS...|NURSING HOME/RETI...| false|   false| 513|       5|   9|           49|     11|  1164887.6|  1885939.0|2018|     None|41.842606| -87.67044|                None|  DECEPTIVE PRACTICE|\n",
            "|11651457|  JC219245|2018-06-02 00:00:00|    102XX W ZEMKE RD|1206|  DECEPTIVE PRACTICE|THEFT BY LESSEE,M...|               OTHER| false|   false|1654|      16|  41|           76|     11|  1164887.6|  1885939.0|2018|     None|41.842606| -87.67044|                None|  DECEPTIVE PRACTICE|\n",
            "|11650695|  JC218936|2018-12-18 08:00:00|    003XX W 102ND PL|1156|  DECEPTIVE PRACTICE|ATTEMPT - FINANCI...|           RESIDENCE| false|   false| 511|       5|   9|           49|     11|  1164887.6|  1885939.0|2018|     None|41.842606| -87.67044|                None|  DECEPTIVE PRACTICE|\n",
            "|11650618|  JC218900|2018-01-18 12:00:00|020XX N HUMBOLDT ...|0890|               THEFT|       FROM BUILDING|    RESIDENCE-GARAGE| false|   false|1414|      14|   1|           22|     06|  1164887.6|  1885939.0|2018|     None|41.842606| -87.67044|                None|BURGLARY/ROBBERY/...|\n",
            "|11650806|  JC219025|2018-11-20 08:00:00|   054XX N MOODY AVE|0810|               THEFT|           OVER $500|           RESIDENCE| false|   false|1622|      16|  45|           11|     06|  1164887.6|  1885939.0|2018|     None|41.842606| -87.67044|                None|BURGLARY/ROBBERY/...|\n",
            "|11651121|  JC219544|2019-03-20 08:01:00|035XX S DR MARTIN...|0820|               THEFT|      $500 AND UNDER|VEHICLE NON-COMME...| false|   false| 212|       2|   4|           35|     06|  1164887.6|  1885939.0|2019|     None|41.842606| -87.67044|                None|BURGLARY/ROBBERY/...|\n",
            "|11650853|  JC219195|2018-08-24 17:11:00|027XX N RUTHERFOR...|1153|  DECEPTIVE PRACTICE|FINANCIAL IDENTIT...|               OTHER| false|   false|2512|      25|  36|           18|     11|  1164887.6|  1885939.0|2018|     None|41.842606| -87.67044|                None|  DECEPTIVE PRACTICE|\n",
            "|11651467|  JC219261|2018-08-15 12:35:00|    102XX W ZEMKE RD|1206|  DECEPTIVE PRACTICE|THEFT BY LESSEE,M...|               OTHER| false|   false|1654|      16|  41|           76|     11|  1164887.6|  1885939.0|2018|     None|41.842606| -87.67044|                None|  DECEPTIVE PRACTICE|\n",
            "|11651106|  JC219506|2017-05-01 15:30:00|019XX W Diversey ...|1153|  DECEPTIVE PRACTICE|FINANCIAL IDENTIT...|                None| false|   false|1931|      19|  32|            5|     11|  1164887.6|  1885939.0|2017|     None|41.842606| -87.67044|                None|  DECEPTIVE PRACTICE|\n",
            "|11651036|  JC219045|2018-06-16 15:00:00|    040XX N CLARK ST|1210|  DECEPTIVE PRACTICE|THEFT OF LABOR/SE...|         GAS STATION| false|   false|1912|      19|  47|            6|     11|  1164887.6|  1885939.0|2018|     None|41.842606| -87.67044|                None|  DECEPTIVE PRACTICE|\n",
            "|11477113|  JB367720|2018-07-27 14:15:22| 069XX S ROCKWELL ST|2024|           NARCOTICS| POSS: HEROIN(WHITE)|           RESIDENCE|  true|   false| 831|       8|  17|           66|     18|  1164887.6|  1885939.0|2018|     None|41.842606| -87.67044|                None|           NARCOTICS|\n",
            "|11651475|  JC219287|2018-10-05 16:15:00|    102XX W ZEMKE RD|1206|  DECEPTIVE PRACTICE|THEFT BY LESSEE,M...|               OTHER| false|   false|1654|      16|  41|           76|     11|  1164887.6|  1885939.0|2018|     None|41.842606| -87.67044|                None|  DECEPTIVE PRACTICE|\n",
            "+--------+----------+-------------------+--------------------+----+--------------------+--------------------+--------------------+------+--------+----+--------+----+-------------+-------+-----------+-----------+----+---------+---------+----------+--------------------+--------------------+\n",
            "only showing top 100 rows\n",
            "\n"
          ]
        }
      ]
    },
    {
      "cell_type": "code",
      "source": [
        "result1 = merged_df.groupBy(\"Year\").count().orderBy(\"Year\")\n",
        "result1.show()\n"
      ],
      "metadata": {
        "colab": {
          "base_uri": "https://localhost:8080/",
          "height": 0
        },
        "id": "r8MGscBx7mdx",
        "outputId": "d7493a31-a071-4170-882b-9967fa841b8d"
      },
      "execution_count": 43,
      "outputs": [
        {
          "output_type": "stream",
          "name": "stdout",
          "text": [
            "+----+------+\n",
            "|Year| count|\n",
            "+----+------+\n",
            "|2013|   267|\n",
            "|2014|   362|\n",
            "|2015|   621|\n",
            "|2016|   704|\n",
            "|2017|   838|\n",
            "|2018|  1596|\n",
            "|2019|  2099|\n",
            "|2020| 64680|\n",
            "|2021|192955|\n",
            "|2022|214044|\n",
            "|2023| 77327|\n",
            "+----+------+\n",
            "\n"
          ]
        }
      ]
    },
    {
      "cell_type": "code",
      "source": [
        "import pandas as pd\n",
        "import matplotlib.pyplot as plt\n",
        "result1_pd = result1.toPandas()\n",
        "# Plot the data\n",
        "plt.figure(figsize=(12, 6))\n",
        "plt.plot(result1_pd[\"Year\"], result1_pd[\"count\"], marker='o', linestyle='-')\n",
        "plt.title('Year-Wise Trend of Crime (Last 10 Years)')\n",
        "plt.xlabel('Year')\n",
        "plt.ylabel('Number of Crimes')\n",
        "plt.grid(True)\n",
        "plt.show()\n",
        "\n"
      ],
      "metadata": {
        "colab": {
          "base_uri": "https://localhost:8080/",
          "height": 564
        },
        "id": "viMkG5_b7wFC",
        "outputId": "5ea0ba05-c82a-4bf3-bea7-22c7ef38e254"
      },
      "execution_count": 72,
      "outputs": [
        {
          "output_type": "display_data",
          "data": {
            "text/plain": [
              "<Figure size 1200x600 with 1 Axes>"
            ],
            "image/png": "[encoded data removed]"
          },
          "metadata": {}
        }
      ]
    },
    {
      "cell_type": "code",
      "source": [
        "result2 = merged_df.groupBy(hour(col(\"Date\")).alias(\"hour\")).count().orderBy(desc(\"count\"))\n",
        "result2.show(24)\n"
      ],
      "metadata": {
        "colab": {
          "base_uri": "https://localhost:8080/",
          "height": 0
        },
        "id": "31PnAFFE72ZO",
        "outputId": "c9b7cf6a-f388-4235-ff63-8805b8803841"
      },
      "execution_count": 45,
      "outputs": [
        {
          "output_type": "stream",
          "name": "stdout",
          "text": [
            "+----+-----+\n",
            "|hour|count|\n",
            "+----+-----+\n",
            "|   0|43826|\n",
            "|  12|32809|\n",
            "|  15|29422|\n",
            "|  17|29388|\n",
            "|  18|28624|\n",
            "|  16|28539|\n",
            "|  19|28130|\n",
            "|  20|27810|\n",
            "|  14|26272|\n",
            "|  21|25855|\n",
            "|  13|25245|\n",
            "|  22|24718|\n",
            "|   9|24399|\n",
            "|  11|24376|\n",
            "|  10|24227|\n",
            "|  23|22379|\n",
            "|   8|18448|\n",
            "|   1|18115|\n",
            "|   2|16114|\n",
            "|   3|13424|\n",
            "|   7|13263|\n",
            "|   4|10831|\n",
            "|   6| 9978|\n",
            "|   5| 9301|\n",
            "+----+-----+\n",
            "\n"
          ]
        }
      ]
    },
    {
      "cell_type": "code",
      "source": [
        "import seaborn as sns\n",
        "import matplotlib.pyplot as plt\n",
        "import pandas as pd  # Import Pandas library\n",
        "\n",
        "# Assuming result2 is your DataFrame\n",
        "# Use Pandas to convert the DataFrame to a Pandas DataFrame\n",
        "result2 = pd.DataFrame(result2)\n",
        "\n",
        "plt.figure(figsize=(14, 8))\n",
        "sns.lineplot(data=result2, x='hour', y='count')\n",
        "plt.title('Crimes over the last 10 years')\n",
        "\n",
        "plt.show()\n",
        "\n",
        "\n"
      ],
      "metadata": {
        "colab": {
          "base_uri": "https://localhost:8080/",
          "height": 718
        },
        "id": "bqIiqmNn8XIT",
        "outputId": "0003c3ba-91bb-4cab-8dff-e2ebb4c53bb1"
      },
      "execution_count": 74,
      "outputs": [
        {
          "output_type": "display_data",
          "data": {
            "text/plain": [
              "<Figure size 1400x800 with 1 Axes>"
            ],
            "image/png": "[encoded data removed]"
          },
          "metadata": {}
        }
      ]
    },
    {
      "cell_type": "code",
      "source": [
        "result3 = merged_df.groupBy('MergedPrimaryType').count()\n",
        "result3 =result3.toPandas()\n",
        "result3 = result3.sort_values(by= 'count',ascending = False).head(10)\n",
        "result3\n"
      ],
      "metadata": {
        "colab": {
          "base_uri": "https://localhost:8080/",
          "height": 363
        },
        "id": "OtCNI4-09bUX",
        "outputId": "5dce992a-5a53-40ac-ffd9-8bdde779b493"
      },
      "execution_count": 60,
      "outputs": [
        {
          "output_type": "execute_result",
          "data": {
            "text/plain": [
              "             MergedPrimaryType   count\n",
              "4       BURGLARY/ROBBERY/THEFT  166549\n",
              "10                     BATTERY  106827\n",
              "20             CRIMINAL DAMAGE   68719\n",
              "7                      ASSAULT   53384\n",
              "18          DECEPTIVE PRACTICE   49487\n",
              "9          MOTOR VEHICLE THEFT   44158\n",
              "24           WEAPONS VIOLATION   23247\n",
              "21                   NARCOTICS   13936\n",
              "6            CRIMINAL TRESPASS   10277\n",
              "0   OFFENSE INVOLVING CHILDREN    5885"
            ],
            "text/html": [
              "\n",
              "  <div id=\"df-4e5b4c89-2302-4978-9843-272d08db95fd\" class=\"colab-df-container\">\n",
              "    <div>\n",
              "<style scoped>\n",
              "    .dataframe tbody tr th:only-of-type {\n",
              "        vertical-align: middle;\n",
              "    }\n",
              "\n",
              "    .dataframe tbody tr th {\n",
              "        vertical-align: top;\n",
              "    }\n",
              "\n",
              "    .dataframe thead th {\n",
              "        text-align: right;\n",
              "    }\n",
              "</style>\n",
              "<table border=\"1\" class=\"dataframe\">\n",
              "  <thead>\n",
              "    <tr style=\"text-align: right;\">\n",
              "      <th></th>\n",
              "      <th>MergedPrimaryType</th>\n",
              "      <th>count</th>\n",
              "    </tr>\n",
              "  </thead>\n",
              "  <tbody>\n",
              "    <tr>\n",
              "      <th>4</th>\n",
              "      <td>BURGLARY/ROBBERY/THEFT</td>\n",
              "      <td>166549</td>\n",
              "    </tr>\n",
              "    <tr>\n",
              "      <th>10</th>\n",
              "      <td>BATTERY</td>\n",
              "      <td>106827</td>\n",
              "    </tr>\n",
              "    <tr>\n",
              "      <th>20</th>\n",
              "      <td>CRIMINAL DAMAGE</td>\n",
              "      <td>68719</td>\n",
              "    </tr>\n",
              "    <tr>\n",
              "      <th>7</th>\n",
              "      <td>ASSAULT</td>\n",
              "      <td>53384</td>\n",
              "    </tr>\n",
              "    <tr>\n",
              "      <th>18</th>\n",
              "      <td>DECEPTIVE PRACTICE</td>\n",
              "      <td>49487</td>\n",
              "    </tr>\n",
              "    <tr>\n",
              "      <th>9</th>\n",
              "      <td>MOTOR VEHICLE THEFT</td>\n",
              "      <td>44158</td>\n",
              "    </tr>\n",
              "    <tr>\n",
              "      <th>24</th>\n",
              "      <td>WEAPONS VIOLATION</td>\n",
              "      <td>23247</td>\n",
              "    </tr>\n",
              "    <tr>\n",
              "      <th>21</th>\n",
              "      <td>NARCOTICS</td>\n",
              "      <td>13936</td>\n",
              "    </tr>\n",
              "    <tr>\n",
              "      <th>6</th>\n",
              "      <td>CRIMINAL TRESPASS</td>\n",
              "      <td>10277</td>\n",
              "    </tr>\n",
              "    <tr>\n",
              "      <th>0</th>\n",
              "      <td>OFFENSE INVOLVING CHILDREN</td>\n",
              "      <td>5885</td>\n",
              "    </tr>\n",
              "  </tbody>\n",
              "</table>\n",
              "</div>\n",
              "    <div class=\"colab-df-buttons\">\n",
              "\n",
              "  <div class=\"colab-df-container\">\n",
              "    <button class=\"colab-df-convert\" onclick=\"convertToInteractive('df-4e5b4c89-2302-4978-9843-272d08db95fd')\"\n",
              "            title=\"Convert this dataframe to an interactive table.\"\n",
              "            style=\"display:none;\">\n",
              "\n",
              "  <svg xmlns=\"http://www.w3.org/2000/svg\" height=\"24px\" viewBox=\"0 -960 960 960\">\n",
              "    <path d=\"M120-120v-720h720v720H120Zm60-500h600v-160H180v160Zm220 220h160v-160H400v160Zm0 220h160v-160H400v160ZM180-400h160v-160H180v160Zm440 0h160v-160H620v160ZM180-180h160v-160H180v160Zm440 0h160v-160H620v160Z\"/>\n",
              "  </svg>\n",
              "    </button>\n",
              "\n",
              "  <style>\n",
              "    .colab-df-container {\n",
              "      display:flex;\n",
              "      gap: 12px;\n",
              "    }\n",
              "\n",
              "    .colab-df-convert {\n",
              "      background-color: #E8F0FE;\n",
              "      border: none;\n",
              "      border-radius: 50%;\n",
              "      cursor: pointer;\n",
              "      display: none;\n",
              "      fill: #1967D2;\n",
              "      height: 32px;\n",
              "      padding: 0 0 0 0;\n",
              "      width: 32px;\n",
              "    }\n",
              "\n",
              "    .colab-df-convert:hover {\n",
              "      background-color: #E2EBFA;\n",
              "      box-shadow: 0px 1px 2px rgba(60, 64, 67, 0.3), 0px 1px 3px 1px rgba(60, 64, 67, 0.15);\n",
              "      fill: #174EA6;\n",
              "    }\n",
              "\n",
              "    .colab-df-buttons div {\n",
              "      margin-bottom: 4px;\n",
              "    }\n",
              "\n",
              "    [theme=dark] .colab-df-convert {\n",
              "      background-color: #3B4455;\n",
              "      fill: #D2E3FC;\n",
              "    }\n",
              "\n",
              "    [theme=dark] .colab-df-convert:hover {\n",
              "      background-color: #434B5C;\n",
              "      box-shadow: 0px 1px 3px 1px rgba(0, 0, 0, 0.15);\n",
              "      filter: drop-shadow(0px 1px 2px rgba(0, 0, 0, 0.3));\n",
              "      fill: #FFFFFF;\n",
              "    }\n",
              "  </style>\n",
              "\n",
              "    <script>\n",
              "      const buttonEl =\n",
              "        document.querySelector('#df-4e5b4c89-2302-4978-9843-272d08db95fd button.colab-df-convert');\n",
              "      buttonEl.style.display =\n",
              "        google.colab.kernel.accessAllowed ? 'block' : 'none';\n",
              "\n",
              "      async function convertToInteractive(key) {\n",
              "        const element = document.querySelector('#df-4e5b4c89-2302-4978-9843-272d08db95fd');\n",
              "        const dataTable =\n",
              "          await google.colab.kernel.invokeFunction('convertToInteractive',\n",
              "                                                    [key], {});\n",
              "        if (!dataTable) return;\n",
              "\n",
              "        const docLinkHtml = 'Like what you see? Visit the ' +\n",
              "          '<a target=\"_blank\" href=https://colab.research.google.com/notebooks/data_table.ipynb>data table notebook</a>'\n",
              "          + ' to learn more about interactive tables.';\n",
              "        element.innerHTML = '';\n",
              "        dataTable['output_type'] = 'display_data';\n",
              "        await google.colab.output.renderOutput(dataTable, element);\n",
              "        const docLink = document.createElement('div');\n",
              "        docLink.innerHTML = docLinkHtml;\n",
              "        element.appendChild(docLink);\n",
              "      }\n",
              "    </script>\n",
              "  </div>\n",
              "\n",
              "\n",
              "<div id=\"df-a8abf2a3-8986-4190-a172-d7514dbd493d\">\n",
              "  <button class=\"colab-df-quickchart\" onclick=\"quickchart('df-a8abf2a3-8986-4190-a172-d7514dbd493d')\"\n",
              "            title=\"Suggest charts.\"\n",
              "            style=\"display:none;\">\n",
              "\n",
              "<svg xmlns=\"http://www.w3.org/2000/svg\" height=\"24px\"viewBox=\"0 0 24 24\"\n",
              "     width=\"24px\">\n",
              "    <g>\n",
              "        <path d=\"M19 3H5c-1.1 0-2 .9-2 2v14c0 1.1.9 2 2 2h14c1.1 0 2-.9 2-2V5c0-1.1-.9-2-2-2zM9 17H7v-7h2v7zm4 0h-2V7h2v10zm4 0h-2v-4h2v4z\"/>\n",
              "    </g>\n",
              "</svg>\n",
              "  </button>\n",
              "\n",
              "<style>\n",
              "  .colab-df-quickchart {\n",
              "      --bg-color: #E8F0FE;\n",
              "      --fill-color: #1967D2;\n",
              "      --hover-bg-color: #E2EBFA;\n",
              "      --hover-fill-color: #174EA6;\n",
              "      --disabled-fill-color: #AAA;\n",
              "      --disabled-bg-color: #DDD;\n",
              "  }\n",
              "\n",
              "  [theme=dark] .colab-df-quickchart {\n",
              "      --bg-color: #3B4455;\n",
              "      --fill-color: #D2E3FC;\n",
              "      --hover-bg-color: #434B5C;\n",
              "      --hover-fill-color: #FFFFFF;\n",
              "      --disabled-bg-color: #3B4455;\n",
              "      --disabled-fill-color: #666;\n",
              "  }\n",
              "\n",
              "  .colab-df-quickchart {\n",
              "    background-color: var(--bg-color);\n",
              "    border: none;\n",
              "    border-radius: 50%;\n",
              "    cursor: pointer;\n",
              "    display: none;\n",
              "    fill: var(--fill-color);\n",
              "    height: 32px;\n",
              "    padding: 0;\n",
              "    width: 32px;\n",
              "  }\n",
              "\n",
              "  .colab-df-quickchart:hover {\n",
              "    background-color: var(--hover-bg-color);\n",
              "    box-shadow: 0 1px 2px rgba(60, 64, 67, 0.3), 0 1px 3px 1px rgba(60, 64, 67, 0.15);\n",
              "    fill: var(--button-hover-fill-color);\n",
              "  }\n",
              "\n",
              "  .colab-df-quickchart-complete:disabled,\n",
              "  .colab-df-quickchart-complete:disabled:hover {\n",
              "    background-color: var(--disabled-bg-color);\n",
              "    fill: var(--disabled-fill-color);\n",
              "    box-shadow: none;\n",
              "  }\n",
              "\n",
              "  .colab-df-spinner {\n",
              "    border: 2px solid var(--fill-color);\n",
              "    border-color: transparent;\n",
              "    border-bottom-color: var(--fill-color);\n",
              "    animation:\n",
              "      spin 1s steps(1) infinite;\n",
              "  }\n",
              "\n",
              "  @keyframes spin {\n",
              "    0% {\n",
              "      border-color: transparent;\n",
              "      border-bottom-color: var(--fill-color);\n",
              "      border-left-color: var(--fill-color);\n",
              "    }\n",
              "    20% {\n",
              "      border-color: transparent;\n",
              "      border-left-color: var(--fill-color);\n",
              "      border-top-color: var(--fill-color);\n",
              "    }\n",
              "    30% {\n",
              "      border-color: transparent;\n",
              "      border-left-color: var(--fill-color);\n",
              "      border-top-color: var(--fill-color);\n",
              "      border-right-color: var(--fill-color);\n",
              "    }\n",
              "    40% {\n",
              "      border-color: transparent;\n",
              "      border-right-color: var(--fill-color);\n",
              "      border-top-color: var(--fill-color);\n",
              "    }\n",
              "    60% {\n",
              "      border-color: transparent;\n",
              "      border-right-color: var(--fill-color);\n",
              "    }\n",
              "    80% {\n",
              "      border-color: transparent;\n",
              "      border-right-color: var(--fill-color);\n",
              "      border-bottom-color: var(--fill-color);\n",
              "    }\n",
              "    90% {\n",
              "      border-color: transparent;\n",
              "      border-bottom-color: var(--fill-color);\n",
              "    }\n",
              "  }\n",
              "</style>\n",
              "\n",
              "  <script>\n",
              "    async function quickchart(key) {\n",
              "      const quickchartButtonEl =\n",
              "        document.querySelector('#' + key + ' button');\n",
              "      quickchartButtonEl.disabled = true;  // To prevent multiple clicks.\n",
              "      quickchartButtonEl.classList.add('colab-df-spinner');\n",
              "      try {\n",
              "        const charts = await google.colab.kernel.invokeFunction(\n",
              "            'suggestCharts', [key], {});\n",
              "      } catch (error) {\n",
              "        console.error('Error during call to suggestCharts:', error);\n",
              "      }\n",
              "      quickchartButtonEl.classList.remove('colab-df-spinner');\n",
              "      quickchartButtonEl.classList.add('colab-df-quickchart-complete');\n",
              "    }\n",
              "    (() => {\n",
              "      let quickchartButtonEl =\n",
              "        document.querySelector('#df-a8abf2a3-8986-4190-a172-d7514dbd493d button');\n",
              "      quickchartButtonEl.style.display =\n",
              "        google.colab.kernel.accessAllowed ? 'block' : 'none';\n",
              "    })();\n",
              "  </script>\n",
              "</div>\n",
              "    </div>\n",
              "  </div>\n"
            ]
          },
          "metadata": {},
          "execution_count": 60
        }
      ]
    },
    {
      "cell_type": "code",
      "source": [
        "import seaborn as sns\n",
        "import matplotlib.pyplot as plt\n",
        "\n",
        "plt.figure(figsize=(17, 9))\n",
        "sns.barplot(data=result3, x='count', y='MergedPrimaryType')\n",
        "plt.title('Top 10 Crimes over the last 10 years')\n",
        "\n",
        "plt.show()\n",
        "\n"
      ],
      "metadata": {
        "colab": {
          "base_uri": "https://localhost:8080/",
          "height": 711
        },
        "id": "mB6WoO089ieD",
        "outputId": "89a278a8-14ee-45a9-a240-4f7be5cd6539"
      },
      "execution_count": 69,
      "outputs": [
        {
          "output_type": "display_data",
          "data": {
            "text/plain": [
              "<Figure size 1700x900 with 1 Axes>"
            ],
            "image/png": "[encoded data removed]"
          },
          "metadata": {}
        }
      ]
    }
  ]
}